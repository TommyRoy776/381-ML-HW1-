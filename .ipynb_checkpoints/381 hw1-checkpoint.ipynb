{
 "cells": [
  {
   "cell_type": "code",
   "execution_count": 35,
   "id": "84caed60",
   "metadata": {
    "scrolled": false
   },
   "outputs": [
    {
     "name": "stdout",
     "output_type": "stream",
     "text": [
      "<class 'pandas.core.frame.DataFrame'>\n",
      "RangeIndex: 27482 entries, 0 to 27481\n",
      "Data columns (total 15 columns):\n",
      " #   Column          Non-Null Count  Dtype \n",
      "---  ------          --------------  ----- \n",
      " 0   age             27482 non-null  int64 \n",
      " 1   workclass       27482 non-null  object\n",
      " 2   fnlwgt          27482 non-null  int64 \n",
      " 3   education       27482 non-null  object\n",
      " 4   education-num   27482 non-null  int64 \n",
      " 5   marital-status  27482 non-null  object\n",
      " 6   occupation      27482 non-null  object\n",
      " 7   relationship    27482 non-null  object\n",
      " 8   race            27482 non-null  object\n",
      " 9   sex             27482 non-null  object\n",
      " 10  capital-gain    27482 non-null  int64 \n",
      " 11  capital-loss    27482 non-null  int64 \n",
      " 12  hours-per-week  27482 non-null  int64 \n",
      " 13  native-country  27482 non-null  object\n",
      " 14  annual-income   27482 non-null  object\n",
      "dtypes: int64(6), object(9)\n",
      "memory usage: 3.1+ MB\n"
     ]
    },
    {
     "data": {
      "text/plain": [
       "<=50K    19915\n",
       ">50K      7567\n",
       "Name: annual-income, dtype: int64"
      ]
     },
     "execution_count": 35,
     "metadata": {},
     "output_type": "execute_result"
    },
    {
     "data": {
      "text/plain": [
       "<=50K    0.724656\n",
       ">50K     0.275344\n",
       "Name: annual-income, dtype: float64"
      ]
     },
     "execution_count": 35,
     "metadata": {},
     "output_type": "execute_result"
    },
    {
     "name": "stdout",
     "output_type": "stream",
     "text": [
      "Not balanced\n"
     ]
    },
    {
     "data": {
      "text/html": [
       "<div>\n",
       "<style scoped>\n",
       "    .dataframe tbody tr th:only-of-type {\n",
       "        vertical-align: middle;\n",
       "    }\n",
       "\n",
       "    .dataframe tbody tr th {\n",
       "        vertical-align: top;\n",
       "    }\n",
       "\n",
       "    .dataframe thead th {\n",
       "        text-align: right;\n",
       "    }\n",
       "</style>\n",
       "<table border=\"1\" class=\"dataframe\">\n",
       "  <thead>\n",
       "    <tr style=\"text-align: right;\">\n",
       "      <th></th>\n",
       "      <th>age</th>\n",
       "      <th>workclass</th>\n",
       "      <th>fnlwgt</th>\n",
       "      <th>education</th>\n",
       "      <th>education-num</th>\n",
       "      <th>marital-status</th>\n",
       "      <th>occupation</th>\n",
       "      <th>relationship</th>\n",
       "      <th>race</th>\n",
       "      <th>sex</th>\n",
       "      <th>capital-gain</th>\n",
       "      <th>capital-loss</th>\n",
       "      <th>hours-per-week</th>\n",
       "      <th>native-country</th>\n",
       "      <th>annual-income</th>\n",
       "    </tr>\n",
       "  </thead>\n",
       "  <tbody>\n",
       "    <tr>\n",
       "      <th>0</th>\n",
       "      <td>2.512876</td>\n",
       "      <td>2.623542</td>\n",
       "      <td>1.812241</td>\n",
       "      <td>0.182159</td>\n",
       "      <td>-0.447779</td>\n",
       "      <td>0.274676</td>\n",
       "      <td>1.765146</td>\n",
       "      <td>-0.236222</td>\n",
       "      <td>0.381518</td>\n",
       "      <td>-1.458621</td>\n",
       "      <td>-0.154589</td>\n",
       "      <td>-0.21747</td>\n",
       "      <td>-1.658226</td>\n",
       "      <td>-5.980612</td>\n",
       "      <td>-0.616413</td>\n",
       "    </tr>\n",
       "    <tr>\n",
       "      <th>1</th>\n",
       "      <td>0.526964</td>\n",
       "      <td>-0.223651</td>\n",
       "      <td>0.177394</td>\n",
       "      <td>-2.701686</td>\n",
       "      <td>-1.621369</td>\n",
       "      <td>-0.399612</td>\n",
       "      <td>-0.099018</td>\n",
       "      <td>2.282200</td>\n",
       "      <td>-2.030182</td>\n",
       "      <td>-1.458621</td>\n",
       "      <td>-0.154589</td>\n",
       "      <td>-0.21747</td>\n",
       "      <td>-0.853479</td>\n",
       "      <td>0.249546</td>\n",
       "      <td>-0.616413</td>\n",
       "    </tr>\n",
       "    <tr>\n",
       "      <th>2</th>\n",
       "      <td>1.188934</td>\n",
       "      <td>1.199946</td>\n",
       "      <td>1.246745</td>\n",
       "      <td>0.182159</td>\n",
       "      <td>-0.447779</td>\n",
       "      <td>-0.399612</td>\n",
       "      <td>-1.031100</td>\n",
       "      <td>-0.865828</td>\n",
       "      <td>0.381518</td>\n",
       "      <td>0.685579</td>\n",
       "      <td>-0.154589</td>\n",
       "      <td>-0.21747</td>\n",
       "      <td>-0.048732</td>\n",
       "      <td>0.249546</td>\n",
       "      <td>-0.616413</td>\n",
       "    </tr>\n",
       "    <tr>\n",
       "      <th>3</th>\n",
       "      <td>-0.061455</td>\n",
       "      <td>2.623542</td>\n",
       "      <td>1.683672</td>\n",
       "      <td>-0.604344</td>\n",
       "      <td>0.334614</td>\n",
       "      <td>0.948964</td>\n",
       "      <td>1.765146</td>\n",
       "      <td>1.022989</td>\n",
       "      <td>0.381518</td>\n",
       "      <td>0.685579</td>\n",
       "      <td>-0.154589</td>\n",
       "      <td>-0.21747</td>\n",
       "      <td>-2.060600</td>\n",
       "      <td>0.249546</td>\n",
       "      <td>-0.616413</td>\n",
       "    </tr>\n",
       "    <tr>\n",
       "      <th>4</th>\n",
       "      <td>-0.944083</td>\n",
       "      <td>1.199946</td>\n",
       "      <td>-1.492575</td>\n",
       "      <td>-0.604344</td>\n",
       "      <td>0.334614</td>\n",
       "      <td>-1.748187</td>\n",
       "      <td>0.134002</td>\n",
       "      <td>1.652594</td>\n",
       "      <td>0.381518</td>\n",
       "      <td>-1.458621</td>\n",
       "      <td>-0.154589</td>\n",
       "      <td>-0.21747</td>\n",
       "      <td>1.158388</td>\n",
       "      <td>0.249546</td>\n",
       "      <td>-0.616413</td>\n",
       "    </tr>\n",
       "  </tbody>\n",
       "</table>\n",
       "</div>"
      ],
      "text/plain": [
       "        age  workclass    fnlwgt  education  education-num  marital-status  \\\n",
       "0  2.512876   2.623542  1.812241   0.182159      -0.447779        0.274676   \n",
       "1  0.526964  -0.223651  0.177394  -2.701686      -1.621369       -0.399612   \n",
       "2  1.188934   1.199946  1.246745   0.182159      -0.447779       -0.399612   \n",
       "3 -0.061455   2.623542  1.683672  -0.604344       0.334614        0.948964   \n",
       "4 -0.944083   1.199946 -1.492575  -0.604344       0.334614       -1.748187   \n",
       "\n",
       "   occupation  relationship      race       sex  capital-gain  capital-loss  \\\n",
       "0    1.765146     -0.236222  0.381518 -1.458621     -0.154589      -0.21747   \n",
       "1   -0.099018      2.282200 -2.030182 -1.458621     -0.154589      -0.21747   \n",
       "2   -1.031100     -0.865828  0.381518  0.685579     -0.154589      -0.21747   \n",
       "3    1.765146      1.022989  0.381518  0.685579     -0.154589      -0.21747   \n",
       "4    0.134002      1.652594  0.381518 -1.458621     -0.154589      -0.21747   \n",
       "\n",
       "   hours-per-week  native-country  annual-income  \n",
       "0       -1.658226       -5.980612      -0.616413  \n",
       "1       -0.853479        0.249546      -0.616413  \n",
       "2       -0.048732        0.249546      -0.616413  \n",
       "3       -2.060600        0.249546      -0.616413  \n",
       "4        1.158388        0.249546      -0.616413  "
      ]
     },
     "execution_count": 35,
     "metadata": {},
     "output_type": "execute_result"
    }
   ],
   "source": [
    "#part0 load data\n",
    "import pandas as pd\n",
    "from collections import Counter\n",
    "import numpy as np\n",
    "from sklearn import preprocessing\n",
    "from IPython.core.interactiveshell import InteractiveShell\n",
    "InteractiveShell.ast_node_interactivity = \"all\"\n",
    "\n",
    "census_column_names=['age','workclass','fnlwgt','education','education-num',\n",
    "                      'marital-status','occupation','relationship','race','sex',\n",
    "                      'capital-gain','capital-loss','hours-per-week','native-country',\n",
    "                      'annual-income']\n",
    "CENSUS_FILE = './census_dataset.csv'\n",
    "org_dataFile = pd.read_csv(CENSUS_FILE,names=census_column_names)\n",
    "#number of features & type of features\n",
    "org_dataFile.info()\n",
    "#Classes\n",
    "org_dataFile['annual-income'].value_counts()\n",
    "org_dataFile['annual-income'].value_counts()/len(dataFile)\n",
    "print(\"Not balanced\")\n",
    "#undersampling ??\n",
    "#df2 = dataFile.copy()\n",
    "le = preprocessing.LabelEncoder()\n",
    "#preprocess string features        \n",
    "def labelizedString(df2):\n",
    "    for column_name in df2.columns:\n",
    "        if df2[column_name].dtype == object:\n",
    "            df2[column_name] = le.fit_transform(df2[column_name])\n",
    "        else:\n",
    "            pass\n",
    "dataFile = org_dataFile.copy()\n",
    "labelizedString(dataFile)\n",
    "#Standardize\n",
    "ss = preprocessing.StandardScaler()\n",
    "df_scaled = pd.DataFrame(ss.fit_transform(dataFile),columns = dataFile.columns)\n",
    "df_scaled.head()\n"
   ]
  },
  {
   "cell_type": "code",
   "execution_count": 36,
   "id": "8e4202c0",
   "metadata": {
    "scrolled": false
   },
   "outputs": [
    {
     "name": "stdout",
     "output_type": "stream",
     "text": [
      "0    0.724665\n",
      "1    0.275335\n",
      "Name: annual-income, dtype: float64\n",
      "0    0.724709\n",
      "1    0.275291\n",
      "Name: annual-income, dtype: float64\n"
     ]
    },
    {
     "data": {
      "text/html": [
       "<div>\n",
       "<style scoped>\n",
       "    .dataframe tbody tr th:only-of-type {\n",
       "        vertical-align: middle;\n",
       "    }\n",
       "\n",
       "    .dataframe tbody tr th {\n",
       "        vertical-align: top;\n",
       "    }\n",
       "\n",
       "    .dataframe thead th {\n",
       "        text-align: right;\n",
       "    }\n",
       "</style>\n",
       "<table border=\"1\" class=\"dataframe\">\n",
       "  <thead>\n",
       "    <tr style=\"text-align: right;\">\n",
       "      <th></th>\n",
       "      <th>age</th>\n",
       "      <th>workclass</th>\n",
       "      <th>fnlwgt</th>\n",
       "      <th>education</th>\n",
       "      <th>education-num</th>\n",
       "      <th>marital-status</th>\n",
       "      <th>occupation</th>\n",
       "      <th>relationship</th>\n",
       "      <th>race</th>\n",
       "      <th>sex</th>\n",
       "      <th>capital-gain</th>\n",
       "      <th>capital-loss</th>\n",
       "      <th>hours-per-week</th>\n",
       "      <th>native-country</th>\n",
       "      <th>annual-income</th>\n",
       "    </tr>\n",
       "  </thead>\n",
       "  <tbody>\n",
       "    <tr>\n",
       "      <th>5252</th>\n",
       "      <td>74</td>\n",
       "      <td>1</td>\n",
       "      <td>168782</td>\n",
       "      <td>5</td>\n",
       "      <td>4</td>\n",
       "      <td>6</td>\n",
       "      <td>7</td>\n",
       "      <td>1</td>\n",
       "      <td>4</td>\n",
       "      <td>0</td>\n",
       "      <td>0</td>\n",
       "      <td>0</td>\n",
       "      <td>35</td>\n",
       "      <td>37</td>\n",
       "      <td>0</td>\n",
       "    </tr>\n",
       "    <tr>\n",
       "      <th>23966</th>\n",
       "      <td>42</td>\n",
       "      <td>3</td>\n",
       "      <td>54102</td>\n",
       "      <td>15</td>\n",
       "      <td>10</td>\n",
       "      <td>0</td>\n",
       "      <td>0</td>\n",
       "      <td>4</td>\n",
       "      <td>4</td>\n",
       "      <td>0</td>\n",
       "      <td>0</td>\n",
       "      <td>0</td>\n",
       "      <td>40</td>\n",
       "      <td>37</td>\n",
       "      <td>0</td>\n",
       "    </tr>\n",
       "    <tr>\n",
       "      <th>12123</th>\n",
       "      <td>50</td>\n",
       "      <td>3</td>\n",
       "      <td>175045</td>\n",
       "      <td>11</td>\n",
       "      <td>12</td>\n",
       "      <td>2</td>\n",
       "      <td>9</td>\n",
       "      <td>0</td>\n",
       "      <td>4</td>\n",
       "      <td>1</td>\n",
       "      <td>0</td>\n",
       "      <td>0</td>\n",
       "      <td>41</td>\n",
       "      <td>37</td>\n",
       "      <td>1</td>\n",
       "    </tr>\n",
       "    <tr>\n",
       "      <th>13376</th>\n",
       "      <td>33</td>\n",
       "      <td>3</td>\n",
       "      <td>156464</td>\n",
       "      <td>11</td>\n",
       "      <td>9</td>\n",
       "      <td>0</td>\n",
       "      <td>2</td>\n",
       "      <td>1</td>\n",
       "      <td>4</td>\n",
       "      <td>1</td>\n",
       "      <td>0</td>\n",
       "      <td>0</td>\n",
       "      <td>40</td>\n",
       "      <td>37</td>\n",
       "      <td>0</td>\n",
       "    </tr>\n",
       "    <tr>\n",
       "      <th>13164</th>\n",
       "      <td>56</td>\n",
       "      <td>3</td>\n",
       "      <td>205735</td>\n",
       "      <td>3</td>\n",
       "      <td>2</td>\n",
       "      <td>5</td>\n",
       "      <td>6</td>\n",
       "      <td>4</td>\n",
       "      <td>4</td>\n",
       "      <td>1</td>\n",
       "      <td>0</td>\n",
       "      <td>0</td>\n",
       "      <td>40</td>\n",
       "      <td>37</td>\n",
       "      <td>0</td>\n",
       "    </tr>\n",
       "  </tbody>\n",
       "</table>\n",
       "</div>"
      ],
      "text/plain": [
       "       age  workclass  fnlwgt  education  education-num  marital-status  \\\n",
       "5252    74          1  168782          5              4               6   \n",
       "23966   42          3   54102         15             10               0   \n",
       "12123   50          3  175045         11             12               2   \n",
       "13376   33          3  156464         11              9               0   \n",
       "13164   56          3  205735          3              2               5   \n",
       "\n",
       "       occupation  relationship  race  sex  capital-gain  capital-loss  \\\n",
       "5252            7             1     4    0             0             0   \n",
       "23966           0             4     4    0             0             0   \n",
       "12123           9             0     4    1             0             0   \n",
       "13376           2             1     4    1             0             0   \n",
       "13164           6             4     4    1             0             0   \n",
       "\n",
       "       hours-per-week  native-country  annual-income  \n",
       "5252               35              37              0  \n",
       "23966              40              37              0  \n",
       "12123              41              37              1  \n",
       "13376              40              37              0  \n",
       "13164              40              37              0  "
      ]
     },
     "execution_count": 36,
     "metadata": {},
     "output_type": "execute_result"
    },
    {
     "data": {
      "text/html": [
       "<div>\n",
       "<style scoped>\n",
       "    .dataframe tbody tr th:only-of-type {\n",
       "        vertical-align: middle;\n",
       "    }\n",
       "\n",
       "    .dataframe tbody tr th {\n",
       "        vertical-align: top;\n",
       "    }\n",
       "\n",
       "    .dataframe thead th {\n",
       "        text-align: right;\n",
       "    }\n",
       "</style>\n",
       "<table border=\"1\" class=\"dataframe\">\n",
       "  <thead>\n",
       "    <tr style=\"text-align: right;\">\n",
       "      <th></th>\n",
       "      <th>age</th>\n",
       "      <th>workclass</th>\n",
       "      <th>fnlwgt</th>\n",
       "      <th>education</th>\n",
       "      <th>education-num</th>\n",
       "      <th>marital-status</th>\n",
       "      <th>occupation</th>\n",
       "      <th>relationship</th>\n",
       "      <th>race</th>\n",
       "      <th>sex</th>\n",
       "      <th>capital-gain</th>\n",
       "      <th>capital-loss</th>\n",
       "      <th>hours-per-week</th>\n",
       "      <th>native-country</th>\n",
       "      <th>annual-income</th>\n",
       "    </tr>\n",
       "  </thead>\n",
       "  <tbody>\n",
       "    <tr>\n",
       "      <th>0</th>\n",
       "      <td>2.582376</td>\n",
       "      <td>-1.652415</td>\n",
       "      <td>-0.190218</td>\n",
       "      <td>-1.396191</td>\n",
       "      <td>-2.410379</td>\n",
       "      <td>2.287916</td>\n",
       "      <td>0.134561</td>\n",
       "      <td>-0.236923</td>\n",
       "      <td>0.379941</td>\n",
       "      <td>-1.472178</td>\n",
       "      <td>-0.155865</td>\n",
       "      <td>-0.21553</td>\n",
       "      <td>-0.440432</td>\n",
       "      <td>0.251142</td>\n",
       "      <td>-0.616399</td>\n",
       "    </tr>\n",
       "    <tr>\n",
       "      <th>1</th>\n",
       "      <td>0.233641</td>\n",
       "      <td>-0.229315</td>\n",
       "      <td>-1.291708</td>\n",
       "      <td>1.236797</td>\n",
       "      <td>-0.060311</td>\n",
       "      <td>-1.744304</td>\n",
       "      <td>-1.491600</td>\n",
       "      <td>1.659495</td>\n",
       "      <td>0.379941</td>\n",
       "      <td>-1.472178</td>\n",
       "      <td>-0.155865</td>\n",
       "      <td>-0.21553</td>\n",
       "      <td>-0.042333</td>\n",
       "      <td>0.251142</td>\n",
       "      <td>-0.616399</td>\n",
       "    </tr>\n",
       "    <tr>\n",
       "      <th>2</th>\n",
       "      <td>0.820825</td>\n",
       "      <td>-0.229315</td>\n",
       "      <td>-0.130063</td>\n",
       "      <td>0.183602</td>\n",
       "      <td>0.723045</td>\n",
       "      <td>-0.400230</td>\n",
       "      <td>0.599179</td>\n",
       "      <td>-0.869062</td>\n",
       "      <td>0.379941</td>\n",
       "      <td>0.679266</td>\n",
       "      <td>-0.155865</td>\n",
       "      <td>-0.21553</td>\n",
       "      <td>0.037287</td>\n",
       "      <td>0.251142</td>\n",
       "      <td>1.622325</td>\n",
       "    </tr>\n",
       "    <tr>\n",
       "      <th>3</th>\n",
       "      <td>-0.426940</td>\n",
       "      <td>-0.229315</td>\n",
       "      <td>-0.308531</td>\n",
       "      <td>0.183602</td>\n",
       "      <td>-0.451989</td>\n",
       "      <td>-1.744304</td>\n",
       "      <td>-1.026982</td>\n",
       "      <td>-0.236923</td>\n",
       "      <td>0.379941</td>\n",
       "      <td>0.679266</td>\n",
       "      <td>-0.155865</td>\n",
       "      <td>-0.21553</td>\n",
       "      <td>-0.042333</td>\n",
       "      <td>0.251142</td>\n",
       "      <td>-0.616399</td>\n",
       "    </tr>\n",
       "    <tr>\n",
       "      <th>4</th>\n",
       "      <td>1.261213</td>\n",
       "      <td>-0.229315</td>\n",
       "      <td>0.164712</td>\n",
       "      <td>-1.922789</td>\n",
       "      <td>-3.193735</td>\n",
       "      <td>1.615879</td>\n",
       "      <td>-0.097747</td>\n",
       "      <td>1.659495</td>\n",
       "      <td>0.379941</td>\n",
       "      <td>0.679266</td>\n",
       "      <td>-0.155865</td>\n",
       "      <td>-0.21553</td>\n",
       "      <td>-0.042333</td>\n",
       "      <td>0.251142</td>\n",
       "      <td>-0.616399</td>\n",
       "    </tr>\n",
       "  </tbody>\n",
       "</table>\n",
       "</div>"
      ],
      "text/plain": [
       "        age  workclass    fnlwgt  education  education-num  marital-status  \\\n",
       "0  2.582376  -1.652415 -0.190218  -1.396191      -2.410379        2.287916   \n",
       "1  0.233641  -0.229315 -1.291708   1.236797      -0.060311       -1.744304   \n",
       "2  0.820825  -0.229315 -0.130063   0.183602       0.723045       -0.400230   \n",
       "3 -0.426940  -0.229315 -0.308531   0.183602      -0.451989       -1.744304   \n",
       "4  1.261213  -0.229315  0.164712  -1.922789      -3.193735        1.615879   \n",
       "\n",
       "   occupation  relationship      race       sex  capital-gain  capital-loss  \\\n",
       "0    0.134561     -0.236923  0.379941 -1.472178     -0.155865      -0.21553   \n",
       "1   -1.491600      1.659495  0.379941 -1.472178     -0.155865      -0.21553   \n",
       "2    0.599179     -0.869062  0.379941  0.679266     -0.155865      -0.21553   \n",
       "3   -1.026982     -0.236923  0.379941  0.679266     -0.155865      -0.21553   \n",
       "4   -0.097747      1.659495  0.379941  0.679266     -0.155865      -0.21553   \n",
       "\n",
       "   hours-per-week  native-country  annual-income  \n",
       "0       -0.440432        0.251142      -0.616399  \n",
       "1       -0.042333        0.251142      -0.616399  \n",
       "2        0.037287        0.251142       1.622325  \n",
       "3       -0.042333        0.251142      -0.616399  \n",
       "4       -0.042333        0.251142      -0.616399  "
      ]
     },
     "execution_count": 36,
     "metadata": {},
     "output_type": "execute_result"
    }
   ],
   "source": [
    "#part0(2)\n",
    "from sklearn.model_selection import StratifiedShuffleSplit\n",
    "from sklearn.compose import ColumnTransformer\n",
    "\n",
    "def MySplit(n_splits,test_size,df):\n",
    "  split = StratifiedShuffleSplit(n_splits=n_splits, test_size=test_size, random_state=23721266)\n",
    "  for train_index, test_valid_index in split.split(df, df['annual-income']):\n",
    "     set1 = df.iloc[train_index]\n",
    "     set2 = df.iloc[test_valid_index]\n",
    "     return set1,set2\n",
    "\n",
    "# stratified split 60%/20%/20% \n",
    "train_set,test_valid_set = MySplit(1,0.4,dataFile)\n",
    "test_set,valid_set = MySplit(1,0.5,test_valid_set)\n",
    "  \n",
    "print(train_set['annual-income'].value_counts()/len(train_set))\n",
    "print(test_set['annual-income'].value_counts()/len(test_set))\n",
    "\n",
    "def myStd(df):\n",
    "    ss = preprocessing.StandardScaler()\n",
    "    df_scaled = pd.DataFrame(ss.fit_transform(df),columns = df.columns)\n",
    "    return df_scaled \n",
    "\n",
    "\n",
    "train_set.head()\n",
    "std_train_set = myStd(train_set)\n",
    "std_test_set = myStd(test_set)\n",
    "std_valid_set = myStd(valid_set)\n",
    "std_train_set.head()"
   ]
  },
  {
   "cell_type": "code",
   "execution_count": 37,
   "id": "689fc332",
   "metadata": {},
   "outputs": [
    {
     "name": "stdout",
     "output_type": "stream",
     "text": [
      "naive_bayes\n"
     ]
    },
    {
     "data": {
      "text/plain": [
       "0.7652374310146158"
      ]
     },
     "execution_count": 37,
     "metadata": {},
     "output_type": "execute_result"
    },
    {
     "data": {
      "text/plain": [
       "0.7581877729257642"
      ]
     },
     "execution_count": 37,
     "metadata": {},
     "output_type": "execute_result"
    },
    {
     "data": {
      "text/plain": [
       "<sklearn.metrics._plot.confusion_matrix.ConfusionMatrixDisplay at 0x20df88421c0>"
      ]
     },
     "execution_count": 37,
     "metadata": {},
     "output_type": "execute_result"
    },
    {
     "data": {
      "image/png": "[encoded data removed]",
      "text/plain": [
       "<Figure size 640x480 with 2 Axes>"
      ]
     },
     "metadata": {},
     "output_type": "display_data"
    }
   ],
   "source": [
    "#part 1\n",
    "#peformance metric functions\n",
    "from sklearn.metrics import confusion_matrix, roc_auc_score, f1_score\n",
    "import numpy as np\n",
    "from sklearn.naive_bayes import GaussianNB\n",
    "from sklearn.metrics import accuracy_score,confusion_matrix,ConfusionMatrixDisplay\n",
    "import matplotlib.pyplot as plt\n",
    "from sklearn import svm \n",
    "\n",
    "#separate features and labels\n",
    "X_train = train_set.drop('annual-income',axis=1)\n",
    "Y_train = train_set['annual-income']\n",
    "X_test = test_set.drop('annual-income',axis=1)\n",
    "Y_test = test_set['annual-income']\n",
    "\n",
    "\n",
    "#naive_bayes model \n",
    "print(\"naive_bayes\")\n",
    "gnb = GaussianNB()\n",
    "Y_pred_train = gnb.fit(X_train,Y_train).predict(X_train)\n",
    "accuracy_score(Y_train,Y_pred_train)\n",
    "\n",
    "Y_pred_test = gnb.predict(X_test)\n",
    "accuracy_score(Y_test,Y_pred_test)\n",
    "\n",
    "gnb_cm = confusion_matrix(Y_test,Y_pred_test)\n",
    "disp=ConfusionMatrixDisplay(confusion_matrix=gnb_cm,\n",
    "                            display_labels=gnb.classes_)\n",
    "disp.plot()\n",
    "plt.show()\n",
    "\n"
   ]
  },
  {
   "cell_type": "code",
   "execution_count": 39,
   "id": "d9f7ccd0",
   "metadata": {},
   "outputs": [
    {
     "name": "stdout",
     "output_type": "stream",
     "text": [
      "Random Forest:\n"
     ]
    },
    {
     "data": {
      "text/plain": [
       "0.7652374310146158"
      ]
     },
     "execution_count": 39,
     "metadata": {},
     "output_type": "execute_result"
    },
    {
     "data": {
      "text/plain": [
       "0.8538937409024745"
      ]
     },
     "execution_count": 39,
     "metadata": {},
     "output_type": "execute_result"
    },
    {
     "data": {
      "text/plain": [
       "<sklearn.metrics._plot.confusion_matrix.ConfusionMatrixDisplay at 0x20df2990eb0>"
      ]
     },
     "execution_count": 39,
     "metadata": {},
     "output_type": "execute_result"
    },
    {
     "data": {
      "image/png": "[encoded data removed]",
      "text/plain": [
       "<Figure size 640x480 with 2 Axes>"
      ]
     },
     "metadata": {},
     "output_type": "display_data"
    }
   ],
   "source": [
    "#Random Forest\n",
    "from sklearn.ensemble import RandomForestClassifier\n",
    "print(\"Random Forest:\")\n",
    "rf = RandomForestClassifier()\n",
    "rf_Y_pred_train = rf.fit(X_train,Y_train).predict(X_train)\n",
    "accuracy_score(Y_train,Y_pred_train)\n",
    "\n",
    "rf_Y_pred_test = rf.predict(X_test)\n",
    "accuracy_score(Y_test,rf_Y_pred_test)\n",
    "\n",
    "rf_cm = confusion_matrix(Y_test,rf_Y_pred_test)\n",
    "rf_disp=ConfusionMatrixDisplay(confusion_matrix=rf_cm,\n",
    "                            display_labels=rf.classes_)\n",
    "rf_disp.plot()\n",
    "plt.show()"
   ]
  },
  {
   "cell_type": "code",
   "execution_count": 40,
   "id": "954389d4",
   "metadata": {},
   "outputs": [
    {
     "name": "stdout",
     "output_type": "stream",
     "text": [
      "SVM:\n"
     ]
    },
    {
     "data": {
      "text/html": [
       "<style>#sk-container-id-6 {color: black;background-color: white;}#sk-container-id-6 pre{padding: 0;}#sk-container-id-6 div.sk-toggleable {background-color: white;}#sk-container-id-6 label.sk-toggleable__label {cursor: pointer;display: block;width: 100%;margin-bottom: 0;padding: 0.3em;box-sizing: border-box;text-align: center;}#sk-container-id-6 label.sk-toggleable__label-arrow:before {content: \"▸\";float: left;margin-right: 0.25em;color: #696969;}#sk-container-id-6 label.sk-toggleable__label-arrow:hover:before {color: black;}#sk-container-id-6 div.sk-estimator:hover label.sk-toggleable__label-arrow:before {color: black;}#sk-container-id-6 div.sk-toggleable__content {max-height: 0;max-width: 0;overflow: hidden;text-align: left;background-color: #f0f8ff;}#sk-container-id-6 div.sk-toggleable__content pre {margin: 0.2em;color: black;border-radius: 0.25em;background-color: #f0f8ff;}#sk-container-id-6 input.sk-toggleable__control:checked~div.sk-toggleable__content {max-height: 200px;max-width: 100%;overflow: auto;}#sk-container-id-6 input.sk-toggleable__control:checked~label.sk-toggleable__label-arrow:before {content: \"▾\";}#sk-container-id-6 div.sk-estimator input.sk-toggleable__control:checked~label.sk-toggleable__label {background-color: #d4ebff;}#sk-container-id-6 div.sk-label input.sk-toggleable__control:checked~label.sk-toggleable__label {background-color: #d4ebff;}#sk-container-id-6 input.sk-hidden--visually {border: 0;clip: rect(1px 1px 1px 1px);clip: rect(1px, 1px, 1px, 1px);height: 1px;margin: -1px;overflow: hidden;padding: 0;position: absolute;width: 1px;}#sk-container-id-6 div.sk-estimator {font-family: monospace;background-color: #f0f8ff;border: 1px dotted black;border-radius: 0.25em;box-sizing: border-box;margin-bottom: 0.5em;}#sk-container-id-6 div.sk-estimator:hover {background-color: #d4ebff;}#sk-container-id-6 div.sk-parallel-item::after {content: \"\";width: 100%;border-bottom: 1px solid gray;flex-grow: 1;}#sk-container-id-6 div.sk-label:hover label.sk-toggleable__label {background-color: #d4ebff;}#sk-container-id-6 div.sk-serial::before {content: \"\";position: absolute;border-left: 1px solid gray;box-sizing: border-box;top: 0;bottom: 0;left: 50%;z-index: 0;}#sk-container-id-6 div.sk-serial {display: flex;flex-direction: column;align-items: center;background-color: white;padding-right: 0.2em;padding-left: 0.2em;position: relative;}#sk-container-id-6 div.sk-item {position: relative;z-index: 1;}#sk-container-id-6 div.sk-parallel {display: flex;align-items: stretch;justify-content: center;background-color: white;position: relative;}#sk-container-id-6 div.sk-item::before, #sk-container-id-6 div.sk-parallel-item::before {content: \"\";position: absolute;border-left: 1px solid gray;box-sizing: border-box;top: 0;bottom: 0;left: 50%;z-index: -1;}#sk-container-id-6 div.sk-parallel-item {display: flex;flex-direction: column;z-index: 1;position: relative;background-color: white;}#sk-container-id-6 div.sk-parallel-item:first-child::after {align-self: flex-end;width: 50%;}#sk-container-id-6 div.sk-parallel-item:last-child::after {align-self: flex-start;width: 50%;}#sk-container-id-6 div.sk-parallel-item:only-child::after {width: 0;}#sk-container-id-6 div.sk-dashed-wrapped {border: 1px dashed gray;margin: 0 0.4em 0.5em 0.4em;box-sizing: border-box;padding-bottom: 0.4em;background-color: white;}#sk-container-id-6 div.sk-label label {font-family: monospace;font-weight: bold;display: inline-block;line-height: 1.2em;}#sk-container-id-6 div.sk-label-container {text-align: center;}#sk-container-id-6 div.sk-container {/* jupyter's `normalize.less` sets `[hidden] { display: none; }` but bootstrap.min.css set `[hidden] { display: none !important; }` so we also need the `!important` here to be able to override the default hidden behavior on the sphinx rendered scikit-learn.org. See: https://github.com/scikit-learn/scikit-learn/issues/21755 */display: inline-block !important;position: relative;}#sk-container-id-6 div.sk-text-repr-fallback {display: none;}</style><div id=\"sk-container-id-6\" class=\"sk-top-container\"><div class=\"sk-text-repr-fallback\"><pre>SVC()</pre><b>In a Jupyter environment, please rerun this cell to show the HTML representation or trust the notebook. <br />On GitHub, the HTML representation is unable to render, please try loading this page with nbviewer.org.</b></div><div class=\"sk-container\" hidden><div class=\"sk-item\"><div class=\"sk-estimator sk-toggleable\"><input class=\"sk-toggleable__control sk-hidden--visually\" id=\"sk-estimator-id-6\" type=\"checkbox\" checked><label for=\"sk-estimator-id-6\" class=\"sk-toggleable__label sk-toggleable__label-arrow\">SVC</label><div class=\"sk-toggleable__content\"><pre>SVC()</pre></div></div></div></div></div>"
      ],
      "text/plain": [
       "SVC()"
      ]
     },
     "execution_count": 40,
     "metadata": {},
     "output_type": "execute_result"
    },
    {
     "data": {
      "text/plain": [
       "0.8535387227848868"
      ]
     },
     "execution_count": 40,
     "metadata": {},
     "output_type": "execute_result"
    },
    {
     "data": {
      "text/plain": [
       "0.8402474526928675"
      ]
     },
     "execution_count": 40,
     "metadata": {},
     "output_type": "execute_result"
    },
    {
     "data": {
      "text/plain": [
       "<sklearn.metrics._plot.confusion_matrix.ConfusionMatrixDisplay at 0x20df2485b80>"
      ]
     },
     "execution_count": 40,
     "metadata": {},
     "output_type": "execute_result"
    },
    {
     "data": {
      "image/png": "[encoded data removed]",
      "text/plain": [
       "<Figure size 640x480 with 2 Axes>"
      ]
     },
     "metadata": {},
     "output_type": "display_data"
    }
   ],
   "source": [
    "#Support Vector Machine (SVM)\n",
    "print(\"SVM:\")\n",
    "std_X_train = std_train_set.drop('annual-income',axis=1)\n",
    "std_Y_train = train_set['annual-income']\n",
    "std_X_test = std_test_set.drop('annual-income',axis=1)\n",
    "std_Y_test = test_set['annual-income']\n",
    "\n",
    "svc_model = svm.SVC()\n",
    "svc_model.fit(std_X_train,std_Y_train)\n",
    "svc_Y_pred_train = svc_model.predict(std_X_train)\n",
    "accuracy_score(std_Y_train,svc_Y_pred_train)\n",
    "\n",
    "svc_Y_pred_test = svc_model.predict(std_X_test)\n",
    "accuracy_score(std_Y_test,svc_Y_pred_test)\n",
    "\n",
    "svc_cm = confusion_matrix(std_Y_test,svc_Y_pred_test)\n",
    "svc_disp =ConfusionMatrixDisplay(confusion_matrix=svc_cm,\n",
    "                            display_labels=svc_model.classes_)\n",
    "svc_disp.plot()\n",
    "plt.show()\n"
   ]
  },
  {
   "cell_type": "code",
   "execution_count": 41,
   "id": "306500cb",
   "metadata": {},
   "outputs": [],
   "source": [
    "#part1 (2)\n",
    "\n",
    "#A list of keys for the dictionary returned by p1_metrics\n",
    "metric_keys = ['auc','f1','accuracy','sensitivity','specificity', 'precision']\n",
    "\n",
    "def p1_metrics(y_true,y_pred,include_cm=True):\n",
    "    cm = confusion_matrix(y_true,y_pred)\n",
    "    tn, fp, fn, tp = cm.ravel()\n",
    "    \n",
    "    if include_cm:\n",
    "        return {\n",
    "            'auc': roc_auc_score(y_true,y_pred),\n",
    "            'f1': f1_score(y_true,y_pred),\n",
    "            'accuracy': (tp+tn)/np.sum(cm),\n",
    "            'sensitivity': tp/(tp+fn),\n",
    "            'specificity': tn/(tn+fp),\n",
    "            'precision': tp/(tp+fp),\n",
    "            'confusion_matrix': cm}\n",
    "    else:\n",
    "        return {\n",
    "            'auc': roc_auc_score(y_true,y_pred),\n",
    "            'f1': f1_score(y_true,y_pred),\n",
    "            'accuracy': (tp+tn)/np.sum(cm),\n",
    "            'sensitivity': tp/(tp+fn),\n",
    "            'specificity': tn/(tn+fp),\n",
    "            'precision': tp/(tp+fp)}\n",
    "    \n",
    "NBperformance = p1_metrics(Y_test,Y_pred_test)\n",
    "RFperformance = p1_metrics(Y_test,rf_Y_pred_test)\n",
    "SVMperformance = p1_metrics(Y_test,svc_Y_pred_test)"
   ]
  },
  {
   "cell_type": "code",
   "execution_count": null,
   "id": "de779154",
   "metadata": {},
   "outputs": [],
   "source": [
    "#part 1(3) \n"
   ]
  }
 ],
 "metadata": {
  "kernelspec": {
   "display_name": "Python 3 (ipykernel)",
   "language": "python",
   "name": "python3"
  },
  "language_info": {
   "codemirror_mode": {
    "name": "ipython",
    "version": 3
   },
   "file_extension": ".py",
   "mimetype": "text/x-python",
   "name": "python",
   "nbconvert_exporter": "python",
   "pygments_lexer": "ipython3",
   "version": "3.9.6"
  }
 },
 "nbformat": 4,
 "nbformat_minor": 5
}
