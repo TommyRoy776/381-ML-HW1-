{
 "cells": [
  {
   "cell_type": "code",
   "execution_count": 1,
   "id": "84caed60",
   "metadata": {
    "scrolled": false
   },
   "outputs": [
    {
     "name": "stdout",
     "output_type": "stream",
     "text": [
      "<class 'pandas.core.frame.DataFrame'>\n",
      "RangeIndex: 27482 entries, 0 to 27481\n",
      "Data columns (total 15 columns):\n",
      " #   Column          Non-Null Count  Dtype \n",
      "---  ------          --------------  ----- \n",
      " 0   age             27482 non-null  int64 \n",
      " 1   workclass       27482 non-null  object\n",
      " 2   fnlwgt          27482 non-null  int64 \n",
      " 3   education       27482 non-null  object\n",
      " 4   education-num   27482 non-null  int64 \n",
      " 5   marital-status  27482 non-null  object\n",
      " 6   occupation      27482 non-null  object\n",
      " 7   relationship    27482 non-null  object\n",
      " 8   race            27482 non-null  object\n",
      " 9   sex             27482 non-null  object\n",
      " 10  capital-gain    27482 non-null  int64 \n",
      " 11  capital-loss    27482 non-null  int64 \n",
      " 12  hours-per-week  27482 non-null  int64 \n",
      " 13  native-country  27482 non-null  object\n",
      " 14  annual-income   27482 non-null  object\n",
      "dtypes: int64(6), object(9)\n",
      "memory usage: 3.1+ MB\n",
      "Not balanced\n"
     ]
    },
    {
     "data": {
      "text/plain": [
       "'\\nss = preprocessing.StandardScaler()\\ndf_scaled = pd.DataFrame(ss.fit_transform(dataFile),columns = dataFile.columns)\\ndf_scaled.head()\\n'"
      ]
     },
     "execution_count": 1,
     "metadata": {},
     "output_type": "execute_result"
    }
   ],
   "source": [
    "#part0 load data\n",
    "import pandas as pd\n",
    "from collections import Counter\n",
    "import numpy as np\n",
    "from sklearn import preprocessing\n",
    "from IPython.core.interactiveshell import InteractiveShell\n",
    "InteractiveShell.ast_node_interactivity = \"all\"\n",
    "\n",
    "census_column_names=['age','workclass','fnlwgt','education','education-num',\n",
    "                      'marital-status','occupation','relationship','race','sex',\n",
    "                      'capital-gain','capital-loss','hours-per-week','native-country',\n",
    "                      'annual-income']\n",
    "CENSUS_FILE = './census_dataset.csv'\n",
    "org_dataFile = pd.read_csv(CENSUS_FILE,names=census_column_names)\n",
    "#number of features & type of features\n",
    "org_dataFile.info()\n",
    "#Classes\n",
    "org_dataFile['annual-income'].value_counts()\n",
    "org_dataFile['annual-income'].value_counts()/len(org_dataFile)\n",
    "print(\"Not balanced\")\n",
    "#undersampling ??\n",
    "#df2 = dataFile.copy()\n",
    "#preprocess string features        \n",
    "def labelizedString(df2):\n",
    "    le = preprocessing.LabelEncoder()\n",
    "    for column_name in df2.columns:\n",
    "        if df2[column_name].dtype == object:\n",
    "            df2[column_name] = le.fit_transform(df2[column_name])\n",
    "        else:\n",
    "            pass\n",
    "dataFile = org_dataFile.copy()\n",
    "labelizedString(dataFile)\n",
    "#Standardize\n",
    "'''\n",
    "ss = preprocessing.StandardScaler()\n",
    "df_scaled = pd.DataFrame(ss.fit_transform(dataFile),columns = dataFile.columns)\n",
    "df_scaled.head()\n",
    "'''\n"
   ]
  },
  {
   "cell_type": "code",
   "execution_count": 2,
   "id": "8e4202c0",
   "metadata": {
    "scrolled": false
   },
   "outputs": [
    {
     "name": "stdout",
     "output_type": "stream",
     "text": [
      "0    0.724665\n",
      "1    0.275335\n",
      "Name: annual-income, dtype: float64\n",
      "0    0.724709\n",
      "1    0.275291\n",
      "Name: annual-income, dtype: float64\n"
     ]
    },
    {
     "data": {
      "text/html": [
       "<div>\n",
       "<style scoped>\n",
       "    .dataframe tbody tr th:only-of-type {\n",
       "        vertical-align: middle;\n",
       "    }\n",
       "\n",
       "    .dataframe tbody tr th {\n",
       "        vertical-align: top;\n",
       "    }\n",
       "\n",
       "    .dataframe thead th {\n",
       "        text-align: right;\n",
       "    }\n",
       "</style>\n",
       "<table border=\"1\" class=\"dataframe\">\n",
       "  <thead>\n",
       "    <tr style=\"text-align: right;\">\n",
       "      <th></th>\n",
       "      <th>age</th>\n",
       "      <th>workclass</th>\n",
       "      <th>fnlwgt</th>\n",
       "      <th>education</th>\n",
       "      <th>education-num</th>\n",
       "      <th>marital-status</th>\n",
       "      <th>occupation</th>\n",
       "      <th>relationship</th>\n",
       "      <th>race</th>\n",
       "      <th>sex</th>\n",
       "      <th>capital-gain</th>\n",
       "      <th>capital-loss</th>\n",
       "      <th>hours-per-week</th>\n",
       "      <th>native-country</th>\n",
       "      <th>annual-income</th>\n",
       "    </tr>\n",
       "  </thead>\n",
       "  <tbody>\n",
       "    <tr>\n",
       "      <th>5252</th>\n",
       "      <td>74</td>\n",
       "      <td>1</td>\n",
       "      <td>168782</td>\n",
       "      <td>5</td>\n",
       "      <td>4</td>\n",
       "      <td>6</td>\n",
       "      <td>7</td>\n",
       "      <td>1</td>\n",
       "      <td>4</td>\n",
       "      <td>0</td>\n",
       "      <td>0</td>\n",
       "      <td>0</td>\n",
       "      <td>35</td>\n",
       "      <td>37</td>\n",
       "      <td>0</td>\n",
       "    </tr>\n",
       "    <tr>\n",
       "      <th>23966</th>\n",
       "      <td>42</td>\n",
       "      <td>3</td>\n",
       "      <td>54102</td>\n",
       "      <td>15</td>\n",
       "      <td>10</td>\n",
       "      <td>0</td>\n",
       "      <td>0</td>\n",
       "      <td>4</td>\n",
       "      <td>4</td>\n",
       "      <td>0</td>\n",
       "      <td>0</td>\n",
       "      <td>0</td>\n",
       "      <td>40</td>\n",
       "      <td>37</td>\n",
       "      <td>0</td>\n",
       "    </tr>\n",
       "    <tr>\n",
       "      <th>12123</th>\n",
       "      <td>50</td>\n",
       "      <td>3</td>\n",
       "      <td>175045</td>\n",
       "      <td>11</td>\n",
       "      <td>12</td>\n",
       "      <td>2</td>\n",
       "      <td>9</td>\n",
       "      <td>0</td>\n",
       "      <td>4</td>\n",
       "      <td>1</td>\n",
       "      <td>0</td>\n",
       "      <td>0</td>\n",
       "      <td>41</td>\n",
       "      <td>37</td>\n",
       "      <td>1</td>\n",
       "    </tr>\n",
       "    <tr>\n",
       "      <th>13376</th>\n",
       "      <td>33</td>\n",
       "      <td>3</td>\n",
       "      <td>156464</td>\n",
       "      <td>11</td>\n",
       "      <td>9</td>\n",
       "      <td>0</td>\n",
       "      <td>2</td>\n",
       "      <td>1</td>\n",
       "      <td>4</td>\n",
       "      <td>1</td>\n",
       "      <td>0</td>\n",
       "      <td>0</td>\n",
       "      <td>40</td>\n",
       "      <td>37</td>\n",
       "      <td>0</td>\n",
       "    </tr>\n",
       "    <tr>\n",
       "      <th>13164</th>\n",
       "      <td>56</td>\n",
       "      <td>3</td>\n",
       "      <td>205735</td>\n",
       "      <td>3</td>\n",
       "      <td>2</td>\n",
       "      <td>5</td>\n",
       "      <td>6</td>\n",
       "      <td>4</td>\n",
       "      <td>4</td>\n",
       "      <td>1</td>\n",
       "      <td>0</td>\n",
       "      <td>0</td>\n",
       "      <td>40</td>\n",
       "      <td>37</td>\n",
       "      <td>0</td>\n",
       "    </tr>\n",
       "  </tbody>\n",
       "</table>\n",
       "</div>"
      ],
      "text/plain": [
       "       age  workclass  fnlwgt  education  education-num  marital-status  \\\n",
       "5252    74          1  168782          5              4               6   \n",
       "23966   42          3   54102         15             10               0   \n",
       "12123   50          3  175045         11             12               2   \n",
       "13376   33          3  156464         11              9               0   \n",
       "13164   56          3  205735          3              2               5   \n",
       "\n",
       "       occupation  relationship  race  sex  capital-gain  capital-loss  \\\n",
       "5252            7             1     4    0             0             0   \n",
       "23966           0             4     4    0             0             0   \n",
       "12123           9             0     4    1             0             0   \n",
       "13376           2             1     4    1             0             0   \n",
       "13164           6             4     4    1             0             0   \n",
       "\n",
       "       hours-per-week  native-country  annual-income  \n",
       "5252               35              37              0  \n",
       "23966              40              37              0  \n",
       "12123              41              37              1  \n",
       "13376              40              37              0  \n",
       "13164              40              37              0  "
      ]
     },
     "execution_count": 2,
     "metadata": {},
     "output_type": "execute_result"
    },
    {
     "data": {
      "text/html": [
       "<div>\n",
       "<style scoped>\n",
       "    .dataframe tbody tr th:only-of-type {\n",
       "        vertical-align: middle;\n",
       "    }\n",
       "\n",
       "    .dataframe tbody tr th {\n",
       "        vertical-align: top;\n",
       "    }\n",
       "\n",
       "    .dataframe thead th {\n",
       "        text-align: right;\n",
       "    }\n",
       "</style>\n",
       "<table border=\"1\" class=\"dataframe\">\n",
       "  <thead>\n",
       "    <tr style=\"text-align: right;\">\n",
       "      <th></th>\n",
       "      <th>age</th>\n",
       "      <th>workclass</th>\n",
       "      <th>fnlwgt</th>\n",
       "      <th>education</th>\n",
       "      <th>education-num</th>\n",
       "      <th>marital-status</th>\n",
       "      <th>occupation</th>\n",
       "      <th>relationship</th>\n",
       "      <th>race</th>\n",
       "      <th>sex</th>\n",
       "      <th>capital-gain</th>\n",
       "      <th>capital-loss</th>\n",
       "      <th>hours-per-week</th>\n",
       "      <th>native-country</th>\n",
       "      <th>annual-income</th>\n",
       "    </tr>\n",
       "  </thead>\n",
       "  <tbody>\n",
       "    <tr>\n",
       "      <th>5252</th>\n",
       "      <td>2.582376</td>\n",
       "      <td>-1.652415</td>\n",
       "      <td>-0.190218</td>\n",
       "      <td>-1.396191</td>\n",
       "      <td>-2.410379</td>\n",
       "      <td>2.287916</td>\n",
       "      <td>0.134561</td>\n",
       "      <td>-0.236923</td>\n",
       "      <td>0.379941</td>\n",
       "      <td>-1.472178</td>\n",
       "      <td>-0.155865</td>\n",
       "      <td>-0.21553</td>\n",
       "      <td>-0.440432</td>\n",
       "      <td>0.251142</td>\n",
       "      <td>0</td>\n",
       "    </tr>\n",
       "    <tr>\n",
       "      <th>23966</th>\n",
       "      <td>0.233641</td>\n",
       "      <td>-0.229315</td>\n",
       "      <td>-1.291708</td>\n",
       "      <td>1.236797</td>\n",
       "      <td>-0.060311</td>\n",
       "      <td>-1.744304</td>\n",
       "      <td>-1.491600</td>\n",
       "      <td>1.659495</td>\n",
       "      <td>0.379941</td>\n",
       "      <td>-1.472178</td>\n",
       "      <td>-0.155865</td>\n",
       "      <td>-0.21553</td>\n",
       "      <td>-0.042333</td>\n",
       "      <td>0.251142</td>\n",
       "      <td>0</td>\n",
       "    </tr>\n",
       "    <tr>\n",
       "      <th>12123</th>\n",
       "      <td>0.820825</td>\n",
       "      <td>-0.229315</td>\n",
       "      <td>-0.130063</td>\n",
       "      <td>0.183602</td>\n",
       "      <td>0.723045</td>\n",
       "      <td>-0.400230</td>\n",
       "      <td>0.599179</td>\n",
       "      <td>-0.869062</td>\n",
       "      <td>0.379941</td>\n",
       "      <td>0.679266</td>\n",
       "      <td>-0.155865</td>\n",
       "      <td>-0.21553</td>\n",
       "      <td>0.037287</td>\n",
       "      <td>0.251142</td>\n",
       "      <td>1</td>\n",
       "    </tr>\n",
       "    <tr>\n",
       "      <th>13376</th>\n",
       "      <td>-0.426940</td>\n",
       "      <td>-0.229315</td>\n",
       "      <td>-0.308531</td>\n",
       "      <td>0.183602</td>\n",
       "      <td>-0.451989</td>\n",
       "      <td>-1.744304</td>\n",
       "      <td>-1.026982</td>\n",
       "      <td>-0.236923</td>\n",
       "      <td>0.379941</td>\n",
       "      <td>0.679266</td>\n",
       "      <td>-0.155865</td>\n",
       "      <td>-0.21553</td>\n",
       "      <td>-0.042333</td>\n",
       "      <td>0.251142</td>\n",
       "      <td>0</td>\n",
       "    </tr>\n",
       "    <tr>\n",
       "      <th>13164</th>\n",
       "      <td>1.261213</td>\n",
       "      <td>-0.229315</td>\n",
       "      <td>0.164712</td>\n",
       "      <td>-1.922789</td>\n",
       "      <td>-3.193735</td>\n",
       "      <td>1.615879</td>\n",
       "      <td>-0.097747</td>\n",
       "      <td>1.659495</td>\n",
       "      <td>0.379941</td>\n",
       "      <td>0.679266</td>\n",
       "      <td>-0.155865</td>\n",
       "      <td>-0.21553</td>\n",
       "      <td>-0.042333</td>\n",
       "      <td>0.251142</td>\n",
       "      <td>0</td>\n",
       "    </tr>\n",
       "  </tbody>\n",
       "</table>\n",
       "</div>"
      ],
      "text/plain": [
       "            age  workclass    fnlwgt  education  education-num  \\\n",
       "5252   2.582376  -1.652415 -0.190218  -1.396191      -2.410379   \n",
       "23966  0.233641  -0.229315 -1.291708   1.236797      -0.060311   \n",
       "12123  0.820825  -0.229315 -0.130063   0.183602       0.723045   \n",
       "13376 -0.426940  -0.229315 -0.308531   0.183602      -0.451989   \n",
       "13164  1.261213  -0.229315  0.164712  -1.922789      -3.193735   \n",
       "\n",
       "       marital-status  occupation  relationship      race       sex  \\\n",
       "5252         2.287916    0.134561     -0.236923  0.379941 -1.472178   \n",
       "23966       -1.744304   -1.491600      1.659495  0.379941 -1.472178   \n",
       "12123       -0.400230    0.599179     -0.869062  0.379941  0.679266   \n",
       "13376       -1.744304   -1.026982     -0.236923  0.379941  0.679266   \n",
       "13164        1.615879   -0.097747      1.659495  0.379941  0.679266   \n",
       "\n",
       "       capital-gain  capital-loss  hours-per-week  native-country  \\\n",
       "5252      -0.155865      -0.21553       -0.440432        0.251142   \n",
       "23966     -0.155865      -0.21553       -0.042333        0.251142   \n",
       "12123     -0.155865      -0.21553        0.037287        0.251142   \n",
       "13376     -0.155865      -0.21553       -0.042333        0.251142   \n",
       "13164     -0.155865      -0.21553       -0.042333        0.251142   \n",
       "\n",
       "       annual-income  \n",
       "5252               0  \n",
       "23966              0  \n",
       "12123              1  \n",
       "13376              0  \n",
       "13164              0  "
      ]
     },
     "execution_count": 2,
     "metadata": {},
     "output_type": "execute_result"
    }
   ],
   "source": [
    "#part0(2)\n",
    "from sklearn.model_selection import StratifiedShuffleSplit\n",
    "from sklearn.compose import ColumnTransformer\n",
    "\n",
    "def MySplit(n_splits,test_size,df):\n",
    "  split = StratifiedShuffleSplit(n_splits=n_splits, test_size=test_size, random_state=23721266)\n",
    "  for train_index, test_valid_index in split.split(df, df['annual-income']):\n",
    "     set1 = df.iloc[train_index]\n",
    "     set2 = df.iloc[test_valid_index]\n",
    "     return set1,set2\n",
    "\n",
    "# stratified split 60%/20%/20% \n",
    "train_set,test_valid_set = MySplit(1,0.4,dataFile)\n",
    "test_set,valid_set = MySplit(1,0.5,test_valid_set)\n",
    "  \n",
    "print(train_set['annual-income'].value_counts()/len(train_set))\n",
    "print(test_set['annual-income'].value_counts()/len(test_set))\n",
    "\n",
    "def myStd(df):\n",
    "    ss = preprocessing.StandardScaler()\n",
    "    annualIncome = df.loc[:,'annual-income']\n",
    "    tempDf = df.drop('annual-income', axis = 1)\n",
    "    df_scaled = pd.DataFrame(ss.fit_transform(tempDf),columns = tempDf.columns, index=tempDf.index)\n",
    "    df_scaled['annual-income'] = annualIncome\n",
    "    return df_scaled  \n",
    "\n",
    "\n",
    "train_set.head()\n",
    "std_train_set = myStd(train_set)\n",
    "std_test_set = myStd(test_set)\n",
    "std_valid_set = myStd(valid_set)\n",
    "std_train_set.head()"
   ]
  },
  {
   "cell_type": "code",
   "execution_count": 3,
   "id": "689fc332",
   "metadata": {},
   "outputs": [
    {
     "name": "stdout",
     "output_type": "stream",
     "text": [
      "naive_bayes\n"
     ]
    },
    {
     "data": {
      "text/plain": [
       "0.7652374310146158"
      ]
     },
     "execution_count": 3,
     "metadata": {},
     "output_type": "execute_result"
    },
    {
     "data": {
      "text/plain": [
       "0.7581877729257642"
      ]
     },
     "execution_count": 3,
     "metadata": {},
     "output_type": "execute_result"
    },
    {
     "data": {
      "text/plain": [
       "<sklearn.metrics._plot.confusion_matrix.ConfusionMatrixDisplay at 0x1e60424fe80>"
      ]
     },
     "execution_count": 3,
     "metadata": {},
     "output_type": "execute_result"
    },
    {
     "data": {
      "image/png": "[encoded data removed]",
      "text/plain": [
       "<Figure size 640x480 with 2 Axes>"
      ]
     },
     "metadata": {},
     "output_type": "display_data"
    }
   ],
   "source": [
    "#part 1\n",
    "#peformance metric functions\n",
    "from sklearn.metrics import confusion_matrix, roc_auc_score, f1_score\n",
    "import numpy as np\n",
    "from sklearn.naive_bayes import GaussianNB\n",
    "from sklearn.metrics import accuracy_score,confusion_matrix,ConfusionMatrixDisplay\n",
    "import matplotlib.pyplot as plt\n",
    "from sklearn import svm \n",
    "\n",
    "#separate features and labels\n",
    "X_train = train_set.drop('annual-income',axis=1)\n",
    "Y_train = train_set['annual-income']\n",
    "X_test = test_set.drop('annual-income',axis=1)\n",
    "Y_test = test_set['annual-income']\n",
    "\n",
    "\n",
    "#naive_bayes model \n",
    "print(\"naive_bayes\")\n",
    "gnb = GaussianNB()\n",
    "Y_pred_train = gnb.fit(X_train,Y_train).predict(X_train)\n",
    "accuracy_score(Y_train,Y_pred_train)\n",
    "\n",
    "Y_pred_test = gnb.predict(X_test)\n",
    "accuracy_score(Y_test,Y_pred_test)\n",
    "\n",
    "gnb_cm = confusion_matrix(Y_test,Y_pred_test)\n",
    "disp=ConfusionMatrixDisplay(confusion_matrix=gnb_cm,\n",
    "                            display_labels=gnb.classes_)\n",
    "disp.plot()\n",
    "plt.show()\n",
    "\n"
   ]
  },
  {
   "cell_type": "code",
   "execution_count": 4,
   "id": "d9f7ccd0",
   "metadata": {},
   "outputs": [
    {
     "name": "stdout",
     "output_type": "stream",
     "text": [
      "Random Forest:\n"
     ]
    },
    {
     "data": {
      "text/plain": [
       "0.9999393535083996"
      ]
     },
     "execution_count": 4,
     "metadata": {},
     "output_type": "execute_result"
    },
    {
     "data": {
      "text/plain": [
       "0.8531659388646288"
      ]
     },
     "execution_count": 4,
     "metadata": {},
     "output_type": "execute_result"
    },
    {
     "data": {
      "text/plain": [
       "<sklearn.metrics._plot.confusion_matrix.ConfusionMatrixDisplay at 0x1e603160e20>"
      ]
     },
     "execution_count": 4,
     "metadata": {},
     "output_type": "execute_result"
    },
    {
     "data": {
      "image/png": "[encoded data removed]",
      "text/plain": [
       "<Figure size 640x480 with 2 Axes>"
      ]
     },
     "metadata": {},
     "output_type": "display_data"
    }
   ],
   "source": [
    "#Random Forest\n",
    "from sklearn.ensemble import RandomForestClassifier\n",
    "print(\"Random Forest:\")\n",
    "rf = RandomForestClassifier(random_state=23721266)\n",
    "rf_Y_pred_train = rf.fit(X_train,Y_train).predict(X_train)\n",
    "accuracy_score(Y_train,rf_Y_pred_train)\n",
    "\n",
    "rf_Y_pred_test = rf.predict(X_test)\n",
    "accuracy_score(Y_test,rf_Y_pred_test)\n",
    "\n",
    "rf_cm = confusion_matrix(Y_test,rf_Y_pred_test)\n",
    "rf_disp=ConfusionMatrixDisplay(confusion_matrix=rf_cm,\n",
    "                            display_labels=rf.classes_)\n",
    "rf_disp.plot()\n",
    "plt.show()"
   ]
  },
  {
   "cell_type": "code",
   "execution_count": 5,
   "id": "954389d4",
   "metadata": {},
   "outputs": [
    {
     "name": "stdout",
     "output_type": "stream",
     "text": [
      "SVM:\n"
     ]
    },
    {
     "data": {
      "text/html": [
       "<style>#sk-container-id-1 {color: black;background-color: white;}#sk-container-id-1 pre{padding: 0;}#sk-container-id-1 div.sk-toggleable {background-color: white;}#sk-container-id-1 label.sk-toggleable__label {cursor: pointer;display: block;width: 100%;margin-bottom: 0;padding: 0.3em;box-sizing: border-box;text-align: center;}#sk-container-id-1 label.sk-toggleable__label-arrow:before {content: \"▸\";float: left;margin-right: 0.25em;color: #696969;}#sk-container-id-1 label.sk-toggleable__label-arrow:hover:before {color: black;}#sk-container-id-1 div.sk-estimator:hover label.sk-toggleable__label-arrow:before {color: black;}#sk-container-id-1 div.sk-toggleable__content {max-height: 0;max-width: 0;overflow: hidden;text-align: left;background-color: #f0f8ff;}#sk-container-id-1 div.sk-toggleable__content pre {margin: 0.2em;color: black;border-radius: 0.25em;background-color: #f0f8ff;}#sk-container-id-1 input.sk-toggleable__control:checked~div.sk-toggleable__content {max-height: 200px;max-width: 100%;overflow: auto;}#sk-container-id-1 input.sk-toggleable__control:checked~label.sk-toggleable__label-arrow:before {content: \"▾\";}#sk-container-id-1 div.sk-estimator input.sk-toggleable__control:checked~label.sk-toggleable__label {background-color: #d4ebff;}#sk-container-id-1 div.sk-label input.sk-toggleable__control:checked~label.sk-toggleable__label {background-color: #d4ebff;}#sk-container-id-1 input.sk-hidden--visually {border: 0;clip: rect(1px 1px 1px 1px);clip: rect(1px, 1px, 1px, 1px);height: 1px;margin: -1px;overflow: hidden;padding: 0;position: absolute;width: 1px;}#sk-container-id-1 div.sk-estimator {font-family: monospace;background-color: #f0f8ff;border: 1px dotted black;border-radius: 0.25em;box-sizing: border-box;margin-bottom: 0.5em;}#sk-container-id-1 div.sk-estimator:hover {background-color: #d4ebff;}#sk-container-id-1 div.sk-parallel-item::after {content: \"\";width: 100%;border-bottom: 1px solid gray;flex-grow: 1;}#sk-container-id-1 div.sk-label:hover label.sk-toggleable__label {background-color: #d4ebff;}#sk-container-id-1 div.sk-serial::before {content: \"\";position: absolute;border-left: 1px solid gray;box-sizing: border-box;top: 0;bottom: 0;left: 50%;z-index: 0;}#sk-container-id-1 div.sk-serial {display: flex;flex-direction: column;align-items: center;background-color: white;padding-right: 0.2em;padding-left: 0.2em;position: relative;}#sk-container-id-1 div.sk-item {position: relative;z-index: 1;}#sk-container-id-1 div.sk-parallel {display: flex;align-items: stretch;justify-content: center;background-color: white;position: relative;}#sk-container-id-1 div.sk-item::before, #sk-container-id-1 div.sk-parallel-item::before {content: \"\";position: absolute;border-left: 1px solid gray;box-sizing: border-box;top: 0;bottom: 0;left: 50%;z-index: -1;}#sk-container-id-1 div.sk-parallel-item {display: flex;flex-direction: column;z-index: 1;position: relative;background-color: white;}#sk-container-id-1 div.sk-parallel-item:first-child::after {align-self: flex-end;width: 50%;}#sk-container-id-1 div.sk-parallel-item:last-child::after {align-self: flex-start;width: 50%;}#sk-container-id-1 div.sk-parallel-item:only-child::after {width: 0;}#sk-container-id-1 div.sk-dashed-wrapped {border: 1px dashed gray;margin: 0 0.4em 0.5em 0.4em;box-sizing: border-box;padding-bottom: 0.4em;background-color: white;}#sk-container-id-1 div.sk-label label {font-family: monospace;font-weight: bold;display: inline-block;line-height: 1.2em;}#sk-container-id-1 div.sk-label-container {text-align: center;}#sk-container-id-1 div.sk-container {/* jupyter's `normalize.less` sets `[hidden] { display: none; }` but bootstrap.min.css set `[hidden] { display: none !important; }` so we also need the `!important` here to be able to override the default hidden behavior on the sphinx rendered scikit-learn.org. See: https://github.com/scikit-learn/scikit-learn/issues/21755 */display: inline-block !important;position: relative;}#sk-container-id-1 div.sk-text-repr-fallback {display: none;}</style><div id=\"sk-container-id-1\" class=\"sk-top-container\"><div class=\"sk-text-repr-fallback\"><pre>SVC()</pre><b>In a Jupyter environment, please rerun this cell to show the HTML representation or trust the notebook. <br />On GitHub, the HTML representation is unable to render, please try loading this page with nbviewer.org.</b></div><div class=\"sk-container\" hidden><div class=\"sk-item\"><div class=\"sk-estimator sk-toggleable\"><input class=\"sk-toggleable__control sk-hidden--visually\" id=\"sk-estimator-id-1\" type=\"checkbox\" checked><label for=\"sk-estimator-id-1\" class=\"sk-toggleable__label sk-toggleable__label-arrow\">SVC</label><div class=\"sk-toggleable__content\"><pre>SVC()</pre></div></div></div></div></div>"
      ],
      "text/plain": [
       "SVC()"
      ]
     },
     "execution_count": 5,
     "metadata": {},
     "output_type": "execute_result"
    },
    {
     "data": {
      "text/plain": [
       "0.8535387227848868"
      ]
     },
     "execution_count": 5,
     "metadata": {},
     "output_type": "execute_result"
    },
    {
     "data": {
      "text/plain": [
       "0.8402474526928675"
      ]
     },
     "execution_count": 5,
     "metadata": {},
     "output_type": "execute_result"
    },
    {
     "data": {
      "text/plain": [
       "<sklearn.metrics._plot.confusion_matrix.ConfusionMatrixDisplay at 0x1e604959ee0>"
      ]
     },
     "execution_count": 5,
     "metadata": {},
     "output_type": "execute_result"
    },
    {
     "data": {
      "image/png": "[encoded data removed]",
      "text/plain": [
       "<Figure size 640x480 with 2 Axes>"
      ]
     },
     "metadata": {},
     "output_type": "display_data"
    }
   ],
   "source": [
    "#Support Vector Machine (SVM)\n",
    "print(\"SVM:\")\n",
    "std_X_train = std_train_set.drop('annual-income',axis=1)\n",
    "std_Y_train = std_train_set['annual-income']\n",
    "std_X_test = std_test_set.drop('annual-income',axis=1)\n",
    "std_Y_test = std_test_set['annual-income']\n",
    "\n",
    "svc_model = svm.SVC()\n",
    "svc_model.fit(std_X_train,std_Y_train)\n",
    "svc_Y_pred_train = svc_model.predict(std_X_train)\n",
    "accuracy_score(std_Y_train,svc_Y_pred_train)\n",
    "\n",
    "svc_Y_pred_test = svc_model.predict(std_X_test)\n",
    "accuracy_score(std_Y_test,svc_Y_pred_test)\n",
    "\n",
    "svc_cm = confusion_matrix(std_Y_test,svc_Y_pred_test)\n",
    "svc_disp =ConfusionMatrixDisplay(confusion_matrix=svc_cm,\n",
    "                            display_labels=svc_model.classes_)\n",
    "svc_disp.plot()\n",
    "plt.show()\n"
   ]
  },
  {
   "cell_type": "code",
   "execution_count": 6,
   "id": "306500cb",
   "metadata": {},
   "outputs": [
    {
     "name": "stdout",
     "output_type": "stream",
     "text": [
      "naive_bayes\n",
      "auc: 0.6136797682284542\n",
      "f1: 0.3994577496610935\n",
      "accuracy: 0.7581877729257642\n",
      "sensitivity: 0.29213483146067415\n",
      "specificity: 0.935224704996234\n",
      "precision: 0.6314285714285715\n"
     ]
    },
    {
     "data": {
      "image/png": "[encoded data removed]",
      "text/plain": [
       "<Figure size 640x480 with 2 Axes>"
      ]
     },
     "metadata": {},
     "output_type": "display_data"
    },
    {
     "name": "stdout",
     "output_type": "stream",
     "text": [
      "SVM\n",
      "auc: 0.7678448010787421\n",
      "f1: 0.6764922623434045\n",
      "accuracy: 0.8402474526928675\n",
      "sensitivity: 0.6067415730337079\n",
      "specificity: 0.928948029123776\n",
      "precision: 0.7643630308076603\n"
     ]
    },
    {
     "data": {
      "image/png": "[encoded data removed]",
      "text/plain": [
       "<Figure size 640x480 with 2 Axes>"
      ]
     },
     "metadata": {},
     "output_type": "display_data"
    },
    {
     "name": "stdout",
     "output_type": "stream",
     "text": [
      "Random forest\n",
      "auc: 0.7964315127129029\n",
      "f1: 0.7153439153439153\n",
      "accuracy: 0.8531659388646288\n",
      "sensitivity: 0.6701916721744877\n",
      "specificity: 0.9226713532513181\n",
      "precision: 0.7670196671709532\n"
     ]
    },
    {
     "data": {
      "image/png": "[encoded data removed]",
      "text/plain": [
       "<Figure size 640x480 with 2 Axes>"
      ]
     },
     "metadata": {},
     "output_type": "display_data"
    }
   ],
   "source": [
    "#part1 (2)\n",
    "\n",
    "#A list of keys for the dictionary returned by p1_metrics\n",
    "metric_keys = ['auc','f1','accuracy','sensitivity','specificity', 'precision']\n",
    "\n",
    "def p1_metrics(y_true,y_pred,include_cm=True):\n",
    "    cm = confusion_matrix(y_true,y_pred)\n",
    "    tn, fp, fn, tp = cm.ravel()\n",
    "    \n",
    "    if include_cm:\n",
    "        return {\n",
    "            'auc': roc_auc_score(y_true,y_pred),\n",
    "            'f1': f1_score(y_true,y_pred),\n",
    "            'accuracy': (tp+tn)/np.sum(cm),\n",
    "            'sensitivity': tp/(tp+fn),\n",
    "            'specificity': tn/(tn+fp),\n",
    "            'precision': tp/(tp+fp),\n",
    "            'confusion_matrix': cm}\n",
    "    else:\n",
    "        return {\n",
    "            'auc': roc_auc_score(y_true,y_pred),\n",
    "            'f1': f1_score(y_true,y_pred),\n",
    "            'accuracy': (tp+tn)/np.sum(cm),\n",
    "            'sensitivity': tp/(tp+fn),\n",
    "            'specificity': tn/(tn+fp),\n",
    "            'precision': tp/(tp+fp)}\n",
    "\n",
    "def outputP1_metrics(m,modelName):\n",
    "    print(modelName)\n",
    "    for i in m:\n",
    "        if i != 'confusion_matrix':\n",
    "            print(str(i) +\": \"+ str(m[i]))\n",
    "        else:\n",
    "            disp = ConfusionMatrixDisplay(confusion_matrix=m[i],\n",
    "                            display_labels=gnb.classes_)\n",
    "            disp.plot()\n",
    "            plt.show()\n",
    "\n",
    "            \n",
    "NBperformance = p1_metrics(Y_test,Y_pred_test)\n",
    "RFperformance = p1_metrics(Y_test,rf_Y_pred_test)\n",
    "SVMperformance = p1_metrics(Y_test,svc_Y_pred_test)\n",
    "outputP1_metrics(NBperformance,\"naive_bayes\")\n",
    "outputP1_metrics(SVMperformance,\"SVM\")\n",
    "outputP1_metrics(RFperformance,\"Random forest\")\n"
   ]
  },
  {
   "cell_type": "code",
   "execution_count": 7,
   "id": "de779154",
   "metadata": {
    "scrolled": false
   },
   "outputs": [
    {
     "name": "stdout",
     "output_type": "stream",
     "text": [
      "naive_bayes\n",
      "auc: 0.6372647656105158\n",
      "f1: 0.4453551912568306\n",
      "accuracy: 0.7784245952337638\n",
      "sensitivity: 0.3229854689564069\n",
      "specificity: 0.9515440622646246\n",
      "precision: 0.717008797653959\n"
     ]
    },
    {
     "data": {
      "image/png": "[encoded data removed]",
      "text/plain": [
       "<Figure size 640x480 with 2 Axes>"
      ]
     },
     "metadata": {},
     "output_type": "display_data"
    },
    {
     "name": "stdout",
     "output_type": "stream",
     "text": [
      "SVM\n",
      "auc: 0.7777161257670065\n",
      "f1: 0.6892086330935252\n",
      "accuracy: 0.8428233581953793\n",
      "sensitivity: 0.6327608982826949\n",
      "specificity: 0.9226713532513181\n",
      "precision: 0.7567140600315956\n"
     ]
    },
    {
     "data": {
      "image/png": "[encoded data removed]",
      "text/plain": [
       "<Figure size 640x480 with 2 Axes>"
      ]
     },
     "metadata": {},
     "output_type": "display_data"
    },
    {
     "name": "stdout",
     "output_type": "stream",
     "text": [
      "Random forest\n",
      "auc: 0.7977088723508199\n",
      "f1: 0.7157821229050279\n",
      "accuracy: 0.8519192286701838\n",
      "sensitivity: 0.6770145310435931\n",
      "specificity: 0.9184032136580467\n",
      "precision: 0.7592592592592593\n"
     ]
    },
    {
     "data": {
      "image/png": "[encoded data removed]",
      "text/plain": [
       "<Figure size 640x480 with 2 Axes>"
      ]
     },
     "metadata": {},
     "output_type": "display_data"
    }
   ],
   "source": [
    "#part 1(3) \n",
    "\n",
    "X_valid = valid_set.drop('annual-income',axis=1)\n",
    "Y_valid = valid_set['annual-income']\n",
    "std_X_valid = std_valid_set.drop('annual-income',axis=1) \n",
    "std_Y_valid = std_valid_set['annual-income']\n",
    "\n",
    "#NB\n",
    "Y_pred_valid = gnb.predict(X_valid)\n",
    "gnb_validP1 = p1_metrics(Y_valid,Y_pred_valid)\n",
    "outputP1_metrics(gnb_validP1,\"naive_bayes\")\n",
    "\n",
    "#SVM\n",
    "SVC_Y_pred_valid = svc_model.predict(std_X_valid)\n",
    "SVM_validP1 = p1_metrics(std_Y_valid,SVC_Y_pred_valid)\n",
    "outputP1_metrics(SVM_validP1,\"SVM\")\n",
    "\n",
    "#RF\n",
    "RF_Y_pred_valid = rf.predict(X_valid)\n",
    "RF_validP1 = p1_metrics(Y_valid,RF_Y_pred_valid)\n",
    "outputP1_metrics(RF_validP1,\"Random forest\")\n",
    "\n",
    "# Compare and contrast the errors each model makes in terms of each class."
   ]
  },
  {
   "cell_type": "code",
   "execution_count": 8,
   "id": "e61f997f",
   "metadata": {
    "scrolled": false
   },
   "outputs": [],
   "source": [
    "#part 2\n",
    "from sklearn.model_selection import StratifiedKFold\n",
    "\n",
    "mergeDataSet = pd.concat([train_set, valid_set])\n",
    "XmergeDataSet = mergeDataSet.drop('annual-income',axis=1)\n",
    "YmergeDataSet = mergeDataSet['annual-income']\n",
    "\n",
    "std_mergeDataSet = pd.concat([std_train_set,std_valid_set])\n",
    "std_XmergeDataSet = std_mergeDataSet.drop('annual-income',axis=1)\n",
    "std_YmergeDataSet = std_mergeDataSet['annual-income']\n",
    "\n",
    "skf = StratifiedKFold(n_splits=5,random_state=23721266,shuffle=True)\n",
    "NBscores = []\n",
    "svc_modelscores = []\n",
    "rfscores = []\n",
    "\n",
    "def p1_metrics_scorer(clf,X,y_true):\n",
    "    y_pred=clf.predict(X)\n",
    "    return p1_metrics(y_true,y_pred,include_cm=False)\n",
    "\n",
    "def StratifiedKFoldTraining(model,matrixlist,X,Y):\n",
    "  for train_index, test_index in skf.split(X,Y):\n",
    "    this_X_train, this_X_test = X.iloc[train_index], X.iloc[test_index]\n",
    "    this_y_train, this_y_test = Y.iloc[train_index], Y.iloc[test_index]\n",
    "    model.fit(this_X_train, this_y_train)\n",
    "    matrixlist.append(p1_metrics_scorer(model,this_X_test, this_y_test))\n",
    "    #print(model.score(this_X_test, this_y_test))\n",
    "\n",
    "StratifiedKFoldTraining(gnb,NBscores,XmergeDataSet,YmergeDataSet)\n",
    "StratifiedKFoldTraining(svc_model,svc_modelscores,std_XmergeDataSet,std_YmergeDataSet)\n",
    "StratifiedKFoldTraining(rf,rfscores,XmergeDataSet,YmergeDataSet)"
   ]
  },
  {
   "cell_type": "code",
   "execution_count": 9,
   "id": "46e391f1",
   "metadata": {},
   "outputs": [
    {
     "name": "stdout",
     "output_type": "stream",
     "text": [
      "auc 0.6279052367725227 (0.0048893978163539785)\n",
      "f1 0.4263203685422635 (0.010936495256538678)\n",
      "accuracy 0.771308799883504 (0.0026138716572843552)\n",
      "sensitivity 0.3087226593690072 (0.010867863042942748)\n",
      "specificity 0.947087814176038 (0.002692817194564521)\n",
      "precision 0.6892221458324321 (0.009437639766481104)\n"
     ]
    },
    {
     "data": {
      "text/plain": [
       "{'auc_mean': 0.6279052367725227,\n",
       " 'auc_std': 0.0048893978163539785,\n",
       " 'f1_mean': 0.4263203685422635,\n",
       " 'f1_std': 0.010936495256538678,\n",
       " 'accuracy_mean': 0.771308799883504,\n",
       " 'accuracy_std': 0.0026138716572843552,\n",
       " 'sensitivity_mean': 0.3087226593690072,\n",
       " 'sensitivity_std': 0.010867863042942748,\n",
       " 'specificity_mean': 0.947087814176038,\n",
       " 'specificity_std': 0.002692817194564521,\n",
       " 'precision_mean': 0.6892221458324321,\n",
       " 'precision_std': 0.009437639766481104}"
      ]
     },
     "execution_count": 9,
     "metadata": {},
     "output_type": "execute_result"
    },
    {
     "name": "stdout",
     "output_type": "stream",
     "text": [
      "auc 0.7711424486537969 (0.00927498727439582)\n",
      "f1 0.6807681219991071 (0.013411342354378636)\n",
      "accuracy 0.8413081059132985 (0.005012455558750647)\n",
      "sensitivity 0.61496857320294 (0.02089436000649203)\n",
      "specificity 0.9273163241046538 (0.005627663884199774)\n",
      "precision 0.762984447147336 (0.011790474579901605)\n"
     ]
    },
    {
     "data": {
      "text/plain": [
       "{'auc_mean': 0.7711424486537969,\n",
       " 'auc_std': 0.00927498727439582,\n",
       " 'f1_mean': 0.6807681219991071,\n",
       " 'f1_std': 0.013411342354378636,\n",
       " 'accuracy_mean': 0.8413081059132985,\n",
       " 'accuracy_std': 0.005012455558750647,\n",
       " 'sensitivity_mean': 0.61496857320294,\n",
       " 'sensitivity_std': 0.02089436000649203,\n",
       " 'specificity_mean': 0.9273163241046538,\n",
       " 'specificity_std': 0.005627663884199774,\n",
       " 'precision_mean': 0.762984447147336,\n",
       " 'precision_std': 0.011790474579901605}"
      ]
     },
     "execution_count": 9,
     "metadata": {},
     "output_type": "execute_result"
    },
    {
     "name": "stdout",
     "output_type": "stream",
     "text": [
      "auc 0.8027650602854944 (0.0053352480337510375)\n",
      "f1 0.7239236208501806 (0.006050165571467095)\n",
      "accuracy 0.8566359944246578 (0.001672696318607229)\n",
      "sensitivity 0.6828583712661486 (0.014171006012683325)\n",
      "specificity 0.9226717493048403 (0.00386922500870025)\n",
      "precision 0.7705412120643202 (0.00564001939209194)\n"
     ]
    },
    {
     "data": {
      "text/plain": [
       "{'auc_mean': 0.8027650602854944,\n",
       " 'auc_std': 0.0053352480337510375,\n",
       " 'f1_mean': 0.7239236208501806,\n",
       " 'f1_std': 0.006050165571467095,\n",
       " 'accuracy_mean': 0.8566359944246578,\n",
       " 'accuracy_std': 0.001672696318607229,\n",
       " 'sensitivity_mean': 0.6828583712661486,\n",
       " 'sensitivity_std': 0.014171006012683325,\n",
       " 'specificity_mean': 0.9226717493048403,\n",
       " 'specificity_std': 0.00386922500870025,\n",
       " 'precision_mean': 0.7705412120643202,\n",
       " 'precision_std': 0.00564001939209194}"
      ]
     },
     "execution_count": 9,
     "metadata": {},
     "output_type": "execute_result"
    }
   ],
   "source": [
    "#part 2(2,3)\n",
    "def collate_cv_results(cv_results,display=True):\n",
    "    cv_stats=dict()\n",
    "    for k in cv_results:\n",
    "        cv_stats[k+\"_mean\"]=np.mean(cv_results[k])\n",
    "        cv_stats[k+\"_std\"]=np.std(cv_results[k])\n",
    "        if display:\n",
    "            print(k,cv_stats[k+\"_mean\"],\"(\"+str(cv_stats[k+\"_std\"])+\")\")\n",
    "    return cv_stats\n",
    "\n",
    "collate_cv_results(pd.json_normalize(NBscores))\n",
    "collate_cv_results(pd.json_normalize(svc_modelscores))\n",
    "collate_cv_results(pd.json_normalize(rfscores))"
   ]
  },
  {
   "cell_type": "code",
   "execution_count": 12,
   "id": "e5cfbdbe",
   "metadata": {},
   "outputs": [
    {
     "data": {
      "text/html": [
       "<style>#sk-container-id-4 {color: black;background-color: white;}#sk-container-id-4 pre{padding: 0;}#sk-container-id-4 div.sk-toggleable {background-color: white;}#sk-container-id-4 label.sk-toggleable__label {cursor: pointer;display: block;width: 100%;margin-bottom: 0;padding: 0.3em;box-sizing: border-box;text-align: center;}#sk-container-id-4 label.sk-toggleable__label-arrow:before {content: \"▸\";float: left;margin-right: 0.25em;color: #696969;}#sk-container-id-4 label.sk-toggleable__label-arrow:hover:before {color: black;}#sk-container-id-4 div.sk-estimator:hover label.sk-toggleable__label-arrow:before {color: black;}#sk-container-id-4 div.sk-toggleable__content {max-height: 0;max-width: 0;overflow: hidden;text-align: left;background-color: #f0f8ff;}#sk-container-id-4 div.sk-toggleable__content pre {margin: 0.2em;color: black;border-radius: 0.25em;background-color: #f0f8ff;}#sk-container-id-4 input.sk-toggleable__control:checked~div.sk-toggleable__content {max-height: 200px;max-width: 100%;overflow: auto;}#sk-container-id-4 input.sk-toggleable__control:checked~label.sk-toggleable__label-arrow:before {content: \"▾\";}#sk-container-id-4 div.sk-estimator input.sk-toggleable__control:checked~label.sk-toggleable__label {background-color: #d4ebff;}#sk-container-id-4 div.sk-label input.sk-toggleable__control:checked~label.sk-toggleable__label {background-color: #d4ebff;}#sk-container-id-4 input.sk-hidden--visually {border: 0;clip: rect(1px 1px 1px 1px);clip: rect(1px, 1px, 1px, 1px);height: 1px;margin: -1px;overflow: hidden;padding: 0;position: absolute;width: 1px;}#sk-container-id-4 div.sk-estimator {font-family: monospace;background-color: #f0f8ff;border: 1px dotted black;border-radius: 0.25em;box-sizing: border-box;margin-bottom: 0.5em;}#sk-container-id-4 div.sk-estimator:hover {background-color: #d4ebff;}#sk-container-id-4 div.sk-parallel-item::after {content: \"\";width: 100%;border-bottom: 1px solid gray;flex-grow: 1;}#sk-container-id-4 div.sk-label:hover label.sk-toggleable__label {background-color: #d4ebff;}#sk-container-id-4 div.sk-serial::before {content: \"\";position: absolute;border-left: 1px solid gray;box-sizing: border-box;top: 0;bottom: 0;left: 50%;z-index: 0;}#sk-container-id-4 div.sk-serial {display: flex;flex-direction: column;align-items: center;background-color: white;padding-right: 0.2em;padding-left: 0.2em;position: relative;}#sk-container-id-4 div.sk-item {position: relative;z-index: 1;}#sk-container-id-4 div.sk-parallel {display: flex;align-items: stretch;justify-content: center;background-color: white;position: relative;}#sk-container-id-4 div.sk-item::before, #sk-container-id-4 div.sk-parallel-item::before {content: \"\";position: absolute;border-left: 1px solid gray;box-sizing: border-box;top: 0;bottom: 0;left: 50%;z-index: -1;}#sk-container-id-4 div.sk-parallel-item {display: flex;flex-direction: column;z-index: 1;position: relative;background-color: white;}#sk-container-id-4 div.sk-parallel-item:first-child::after {align-self: flex-end;width: 50%;}#sk-container-id-4 div.sk-parallel-item:last-child::after {align-self: flex-start;width: 50%;}#sk-container-id-4 div.sk-parallel-item:only-child::after {width: 0;}#sk-container-id-4 div.sk-dashed-wrapped {border: 1px dashed gray;margin: 0 0.4em 0.5em 0.4em;box-sizing: border-box;padding-bottom: 0.4em;background-color: white;}#sk-container-id-4 div.sk-label label {font-family: monospace;font-weight: bold;display: inline-block;line-height: 1.2em;}#sk-container-id-4 div.sk-label-container {text-align: center;}#sk-container-id-4 div.sk-container {/* jupyter's `normalize.less` sets `[hidden] { display: none; }` but bootstrap.min.css set `[hidden] { display: none !important; }` so we also need the `!important` here to be able to override the default hidden behavior on the sphinx rendered scikit-learn.org. See: https://github.com/scikit-learn/scikit-learn/issues/21755 */display: inline-block !important;position: relative;}#sk-container-id-4 div.sk-text-repr-fallback {display: none;}</style><div id=\"sk-container-id-4\" class=\"sk-top-container\"><div class=\"sk-text-repr-fallback\"><pre>GridSearchCV(cv=StratifiedKFold(n_splits=5, random_state=23721266, shuffle=True),\n",
       "             estimator=SVC(), n_jobs=-1,\n",
       "             param_grid={&#x27;C&#x27;: [1, 5, 10, 20], &#x27;gamma&#x27;: (&#x27;auto&#x27;, &#x27;scale&#x27;),\n",
       "                         &#x27;kernel&#x27;: (&#x27;linear&#x27;, &#x27;rbf&#x27;)},\n",
       "             refit=&#x27;auc&#x27;,\n",
       "             scoring=&lt;function p1_metrics_scorer at 0x000001E6043E3700&gt;)</pre><b>In a Jupyter environment, please rerun this cell to show the HTML representation or trust the notebook. <br />On GitHub, the HTML representation is unable to render, please try loading this page with nbviewer.org.</b></div><div class=\"sk-container\" hidden><div class=\"sk-item sk-dashed-wrapped\"><div class=\"sk-label-container\"><div class=\"sk-label sk-toggleable\"><input class=\"sk-toggleable__control sk-hidden--visually\" id=\"sk-estimator-id-8\" type=\"checkbox\" ><label for=\"sk-estimator-id-8\" class=\"sk-toggleable__label sk-toggleable__label-arrow\">GridSearchCV</label><div class=\"sk-toggleable__content\"><pre>GridSearchCV(cv=StratifiedKFold(n_splits=5, random_state=23721266, shuffle=True),\n",
       "             estimator=SVC(), n_jobs=-1,\n",
       "             param_grid={&#x27;C&#x27;: [1, 5, 10, 20], &#x27;gamma&#x27;: (&#x27;auto&#x27;, &#x27;scale&#x27;),\n",
       "                         &#x27;kernel&#x27;: (&#x27;linear&#x27;, &#x27;rbf&#x27;)},\n",
       "             refit=&#x27;auc&#x27;,\n",
       "             scoring=&lt;function p1_metrics_scorer at 0x000001E6043E3700&gt;)</pre></div></div></div><div class=\"sk-parallel\"><div class=\"sk-parallel-item\"><div class=\"sk-item\"><div class=\"sk-label-container\"><div class=\"sk-label sk-toggleable\"><input class=\"sk-toggleable__control sk-hidden--visually\" id=\"sk-estimator-id-9\" type=\"checkbox\" ><label for=\"sk-estimator-id-9\" class=\"sk-toggleable__label sk-toggleable__label-arrow\">estimator: SVC</label><div class=\"sk-toggleable__content\"><pre>SVC()</pre></div></div></div><div class=\"sk-serial\"><div class=\"sk-item\"><div class=\"sk-estimator sk-toggleable\"><input class=\"sk-toggleable__control sk-hidden--visually\" id=\"sk-estimator-id-10\" type=\"checkbox\" ><label for=\"sk-estimator-id-10\" class=\"sk-toggleable__label sk-toggleable__label-arrow\">SVC</label><div class=\"sk-toggleable__content\"><pre>SVC()</pre></div></div></div></div></div></div></div></div></div></div>"
      ],
      "text/plain": [
       "GridSearchCV(cv=StratifiedKFold(n_splits=5, random_state=23721266, shuffle=True),\n",
       "             estimator=SVC(), n_jobs=-1,\n",
       "             param_grid={'C': [1, 5, 10, 20], 'gamma': ('auto', 'scale'),\n",
       "                         'kernel': ('linear', 'rbf')},\n",
       "             refit='auc',\n",
       "             scoring=<function p1_metrics_scorer at 0x000001E6043E3700>)"
      ]
     },
     "execution_count": 12,
     "metadata": {},
     "output_type": "execute_result"
    },
    {
     "name": "stdout",
     "output_type": "stream",
     "text": [
      "{'C': 20, 'gamma': 'scale', 'kernel': 'rbf'}\n",
      "469.3635666370392\n"
     ]
    }
   ],
   "source": [
    "#part 3\n",
    "import time\n",
    "from sklearn.model_selection import GridSearchCV\n",
    "parameters = {'kernel':('linear', 'rbf'), 'C':[1, 5,10,20],'gamma':('auto','scale')}\n",
    "#parameters = {'kernel':('linear', 'rbf'), 'C':[1, 5]}\n",
    "clf = GridSearchCV(svc_model, parameters,refit=\"auc\",scoring=p1_metrics_scorer,cv=skf,n_jobs=-1,return_train_score=False)\n",
    "time_start = time.time()\n",
    "clf.fit(std_XmergeDataSet,std_YmergeDataSet) \n",
    "time_end = time.time()\n",
    "time_c = time_end-time_start\n",
    "print(clf.best_params_)\n",
    "print(time_c)\n",
    "#clf.fit(X_test,Y_test)"
   ]
  },
  {
   "cell_type": "code",
   "execution_count": 21,
   "id": "1f96a67e",
   "metadata": {},
   "outputs": [
    {
     "name": "stdout",
     "output_type": "stream",
     "text": [
      "test_auc 0.7824356369760196 (0.005297042549760699)\n",
      "test_f1 0.6923018487779972 (0.007309671037058931)\n",
      "test_accuracy 0.8397164836953717 (0.003617568672213127)\n",
      "test_sensitivity 0.6549408657553691 (0.012518047120553915)\n",
      "test_specificity 0.90993040819667 (0.0055671918787411805)\n",
      "test_precision 0.7344678138641594 (0.010510034749333461)\n"
     ]
    },
    {
     "data": {
      "text/plain": [
       "{'auc_mean': 0.7824356369760196,\n",
       " 'auc_std': 0.005297042549760699,\n",
       " 'f1_mean': 0.6923018487779972,\n",
       " 'f1_std': 0.007309671037058931,\n",
       " 'accuracy_mean': 0.8397164836953717,\n",
       " 'accuracy_std': 0.003617568672213127,\n",
       " 'sensitivity_mean': 0.6549408657553691,\n",
       " 'sensitivity_std': 0.012518047120553915,\n",
       " 'specificity_mean': 0.90993040819667,\n",
       " 'specificity_std': 0.0055671918787411805,\n",
       " 'precision_mean': 0.7344678138641594,\n",
       " 'precision_std': 0.010510034749333461}"
      ]
     },
     "execution_count": 21,
     "metadata": {},
     "output_type": "execute_result"
    }
   ],
   "source": [
    "#part 3 (2)\n",
    "best_svc_modelscores = []\n",
    "def collate_ht_results(ht_results,metric_keys=metric_keys,display=True):\n",
    "    ht_stats=dict()\n",
    "    for metric in metric_keys:\n",
    "        ht_stats[metric+\"_mean\"] = ht_results.cv_results_[\"mean_test_\"+metric][ht_results.best_index_]\n",
    "        ht_stats[metric+\"_std\"] = metric_std = ht_results.cv_results_[\"std_test_\"+metric][ht_results.best_index_]\n",
    "        if display:\n",
    "            print(\"test_\"+metric,ht_stats[metric+\"_mean\"],\"(\"+str(ht_stats[metric+\"_std\"])+\")\")\n",
    "    return ht_stats\n",
    "collate_ht_results(clf)"
   ]
  },
  {
   "cell_type": "code",
   "execution_count": 36,
   "id": "e72eab7f",
   "metadata": {},
   "outputs": [
    {
     "data": {
      "text/html": [
       "<style>#sk-container-id-7 {color: black;background-color: white;}#sk-container-id-7 pre{padding: 0;}#sk-container-id-7 div.sk-toggleable {background-color: white;}#sk-container-id-7 label.sk-toggleable__label {cursor: pointer;display: block;width: 100%;margin-bottom: 0;padding: 0.3em;box-sizing: border-box;text-align: center;}#sk-container-id-7 label.sk-toggleable__label-arrow:before {content: \"▸\";float: left;margin-right: 0.25em;color: #696969;}#sk-container-id-7 label.sk-toggleable__label-arrow:hover:before {color: black;}#sk-container-id-7 div.sk-estimator:hover label.sk-toggleable__label-arrow:before {color: black;}#sk-container-id-7 div.sk-toggleable__content {max-height: 0;max-width: 0;overflow: hidden;text-align: left;background-color: #f0f8ff;}#sk-container-id-7 div.sk-toggleable__content pre {margin: 0.2em;color: black;border-radius: 0.25em;background-color: #f0f8ff;}#sk-container-id-7 input.sk-toggleable__control:checked~div.sk-toggleable__content {max-height: 200px;max-width: 100%;overflow: auto;}#sk-container-id-7 input.sk-toggleable__control:checked~label.sk-toggleable__label-arrow:before {content: \"▾\";}#sk-container-id-7 div.sk-estimator input.sk-toggleable__control:checked~label.sk-toggleable__label {background-color: #d4ebff;}#sk-container-id-7 div.sk-label input.sk-toggleable__control:checked~label.sk-toggleable__label {background-color: #d4ebff;}#sk-container-id-7 input.sk-hidden--visually {border: 0;clip: rect(1px 1px 1px 1px);clip: rect(1px, 1px, 1px, 1px);height: 1px;margin: -1px;overflow: hidden;padding: 0;position: absolute;width: 1px;}#sk-container-id-7 div.sk-estimator {font-family: monospace;background-color: #f0f8ff;border: 1px dotted black;border-radius: 0.25em;box-sizing: border-box;margin-bottom: 0.5em;}#sk-container-id-7 div.sk-estimator:hover {background-color: #d4ebff;}#sk-container-id-7 div.sk-parallel-item::after {content: \"\";width: 100%;border-bottom: 1px solid gray;flex-grow: 1;}#sk-container-id-7 div.sk-label:hover label.sk-toggleable__label {background-color: #d4ebff;}#sk-container-id-7 div.sk-serial::before {content: \"\";position: absolute;border-left: 1px solid gray;box-sizing: border-box;top: 0;bottom: 0;left: 50%;z-index: 0;}#sk-container-id-7 div.sk-serial {display: flex;flex-direction: column;align-items: center;background-color: white;padding-right: 0.2em;padding-left: 0.2em;position: relative;}#sk-container-id-7 div.sk-item {position: relative;z-index: 1;}#sk-container-id-7 div.sk-parallel {display: flex;align-items: stretch;justify-content: center;background-color: white;position: relative;}#sk-container-id-7 div.sk-item::before, #sk-container-id-7 div.sk-parallel-item::before {content: \"\";position: absolute;border-left: 1px solid gray;box-sizing: border-box;top: 0;bottom: 0;left: 50%;z-index: -1;}#sk-container-id-7 div.sk-parallel-item {display: flex;flex-direction: column;z-index: 1;position: relative;background-color: white;}#sk-container-id-7 div.sk-parallel-item:first-child::after {align-self: flex-end;width: 50%;}#sk-container-id-7 div.sk-parallel-item:last-child::after {align-self: flex-start;width: 50%;}#sk-container-id-7 div.sk-parallel-item:only-child::after {width: 0;}#sk-container-id-7 div.sk-dashed-wrapped {border: 1px dashed gray;margin: 0 0.4em 0.5em 0.4em;box-sizing: border-box;padding-bottom: 0.4em;background-color: white;}#sk-container-id-7 div.sk-label label {font-family: monospace;font-weight: bold;display: inline-block;line-height: 1.2em;}#sk-container-id-7 div.sk-label-container {text-align: center;}#sk-container-id-7 div.sk-container {/* jupyter's `normalize.less` sets `[hidden] { display: none; }` but bootstrap.min.css set `[hidden] { display: none !important; }` so we also need the `!important` here to be able to override the default hidden behavior on the sphinx rendered scikit-learn.org. See: https://github.com/scikit-learn/scikit-learn/issues/21755 */display: inline-block !important;position: relative;}#sk-container-id-7 div.sk-text-repr-fallback {display: none;}</style><div id=\"sk-container-id-7\" class=\"sk-top-container\"><div class=\"sk-text-repr-fallback\"><pre>RandomizedSearchCV(cv=StratifiedKFold(n_splits=5, random_state=23721266, shuffle=True),\n",
       "                   estimator=SVC(C=20), n_jobs=-1,\n",
       "                   param_distributions={&#x27;C&#x27;: [1, 5, 10, 15, 20, 25, 30, 35, 40,\n",
       "                                              45, 50, 55, 60, 65, 70, 75, 80,\n",
       "                                              85, 90, 95, 100],\n",
       "                                        &#x27;gamma&#x27;: (&#x27;auto&#x27;, &#x27;scale&#x27;),\n",
       "                                        &#x27;kernel&#x27;: (&#x27;linear&#x27;, &#x27;rbf&#x27;)},\n",
       "                   random_state=23721266, refit=&#x27;auc&#x27;,\n",
       "                   scoring=&lt;function p1_metrics_scorer at 0x000001E6043E3700&gt;)</pre><b>In a Jupyter environment, please rerun this cell to show the HTML representation or trust the notebook. <br />On GitHub, the HTML representation is unable to render, please try loading this page with nbviewer.org.</b></div><div class=\"sk-container\" hidden><div class=\"sk-item sk-dashed-wrapped\"><div class=\"sk-label-container\"><div class=\"sk-label sk-toggleable\"><input class=\"sk-toggleable__control sk-hidden--visually\" id=\"sk-estimator-id-15\" type=\"checkbox\" ><label for=\"sk-estimator-id-15\" class=\"sk-toggleable__label sk-toggleable__label-arrow\">RandomizedSearchCV</label><div class=\"sk-toggleable__content\"><pre>RandomizedSearchCV(cv=StratifiedKFold(n_splits=5, random_state=23721266, shuffle=True),\n",
       "                   estimator=SVC(C=20), n_jobs=-1,\n",
       "                   param_distributions={&#x27;C&#x27;: [1, 5, 10, 15, 20, 25, 30, 35, 40,\n",
       "                                              45, 50, 55, 60, 65, 70, 75, 80,\n",
       "                                              85, 90, 95, 100],\n",
       "                                        &#x27;gamma&#x27;: (&#x27;auto&#x27;, &#x27;scale&#x27;),\n",
       "                                        &#x27;kernel&#x27;: (&#x27;linear&#x27;, &#x27;rbf&#x27;)},\n",
       "                   random_state=23721266, refit=&#x27;auc&#x27;,\n",
       "                   scoring=&lt;function p1_metrics_scorer at 0x000001E6043E3700&gt;)</pre></div></div></div><div class=\"sk-parallel\"><div class=\"sk-parallel-item\"><div class=\"sk-item\"><div class=\"sk-label-container\"><div class=\"sk-label sk-toggleable\"><input class=\"sk-toggleable__control sk-hidden--visually\" id=\"sk-estimator-id-16\" type=\"checkbox\" ><label for=\"sk-estimator-id-16\" class=\"sk-toggleable__label sk-toggleable__label-arrow\">estimator: SVC</label><div class=\"sk-toggleable__content\"><pre>SVC(C=20)</pre></div></div></div><div class=\"sk-serial\"><div class=\"sk-item\"><div class=\"sk-estimator sk-toggleable\"><input class=\"sk-toggleable__control sk-hidden--visually\" id=\"sk-estimator-id-17\" type=\"checkbox\" ><label for=\"sk-estimator-id-17\" class=\"sk-toggleable__label sk-toggleable__label-arrow\">SVC</label><div class=\"sk-toggleable__content\"><pre>SVC(C=20)</pre></div></div></div></div></div></div></div></div></div></div>"
      ],
      "text/plain": [
       "RandomizedSearchCV(cv=StratifiedKFold(n_splits=5, random_state=23721266, shuffle=True),\n",
       "                   estimator=SVC(C=20), n_jobs=-1,\n",
       "                   param_distributions={'C': [1, 5, 10, 15, 20, 25, 30, 35, 40,\n",
       "                                              45, 50, 55, 60, 65, 70, 75, 80,\n",
       "                                              85, 90, 95, 100],\n",
       "                                        'gamma': ('auto', 'scale'),\n",
       "                                        'kernel': ('linear', 'rbf')},\n",
       "                   random_state=23721266, refit='auc',\n",
       "                   scoring=<function p1_metrics_scorer at 0x000001E6043E3700>)"
      ]
     },
     "execution_count": 36,
     "metadata": {},
     "output_type": "execute_result"
    },
    {
     "name": "stdout",
     "output_type": "stream",
     "text": [
      "{'kernel': 'rbf', 'gamma': 'auto', 'C': 40}\n",
      "1179.574678659439\n"
     ]
    }
   ],
   "source": [
    "#part 3(3)\n",
    "from sklearn.model_selection import RandomizedSearchCV\n",
    "numbers = [1]\n",
    "numbers.extend(np.arange(5,105,5))\n",
    "Rparameters = {'kernel':('linear', 'rbf'), 'C':numbers,'gamma':('auto','scale')}\n",
    "Rclf = RandomizedSearchCV(svc_model, Rparameters, random_state=23721266,refit=\"auc\",scoring=p1_metrics_scorer,cv=skf,n_jobs=-1,return_train_score=False)\n",
    "time_start = time.time()\n",
    "Rclf.fit(std_XmergeDataSet,std_YmergeDataSet) \n",
    "time_end = time.time()\n",
    "time_c = time_end-time_start\n",
    "print(Rclf.best_params_)\n",
    "print(time_c)"
   ]
  },
  {
   "cell_type": "code",
   "execution_count": 37,
   "id": "be7b15c5",
   "metadata": {},
   "outputs": [
    {
     "name": "stdout",
     "output_type": "stream",
     "text": [
      "test_auc 0.782537725296294 (0.005545478342975739)\n",
      "test_f1 0.6906974450282587 (0.007072492595807756)\n",
      "test_accuracy 0.8368964514748832 (0.0029840793383672346)\n",
      "test_sensitivity 0.6615473858773911 (0.014170492733616407)\n",
      "test_specificity 0.9035280647151968 (0.005325273689189105)\n",
      "test_precision 0.7228468797578318 (0.008754885909788707)\n"
     ]
    },
    {
     "data": {
      "text/plain": [
       "{'auc_mean': 0.782537725296294,\n",
       " 'auc_std': 0.005545478342975739,\n",
       " 'f1_mean': 0.6906974450282587,\n",
       " 'f1_std': 0.007072492595807756,\n",
       " 'accuracy_mean': 0.8368964514748832,\n",
       " 'accuracy_std': 0.0029840793383672346,\n",
       " 'sensitivity_mean': 0.6615473858773911,\n",
       " 'sensitivity_std': 0.014170492733616407,\n",
       " 'specificity_mean': 0.9035280647151968,\n",
       " 'specificity_std': 0.005325273689189105,\n",
       " 'precision_mean': 0.7228468797578318,\n",
       " 'precision_std': 0.008754885909788707}"
      ]
     },
     "execution_count": 37,
     "metadata": {},
     "output_type": "execute_result"
    }
   ],
   "source": [
    "#part 3(4)\n",
    "collate_ht_results(Rclf)"
   ]
  },
  {
   "cell_type": "code",
   "execution_count": null,
   "id": "5b1fda14",
   "metadata": {},
   "outputs": [],
   "source": [
    "#Part 3(5)"
   ]
  },
  {
   "cell_type": "code",
   "execution_count": 40,
   "id": "d2f42ab2",
   "metadata": {},
   "outputs": [
    {
     "name": "stdout",
     "output_type": "stream",
     "text": [
      "[ 10  20  30  40  50  60  70  80  90 100]\n"
     ]
    },
    {
     "data": {
      "text/plain": [
       "'\\nrfparameters = {\\'Split criterion\\':(),\\'Maximum tree depth\\':(),\\'Number of trees\\':()}\\nRclf = RandomizedSearchCV(rf, rfparameters, random_state=23721266,refit=\"auc\",scoring=p1_metrics_scorer,cv=skf,n_jobs=-1,return_train_score=False)\\ntime_start = time.time()\\nRclf.fit(XmergeDataSet,YmergeDataSet) \\ntime_end = time.time()\\ntime_c = time_end-time_start\\n'"
      ]
     },
     "execution_count": 40,
     "metadata": {},
     "output_type": "execute_result"
    }
   ],
   "source": [
    "#Part 4\n",
    "numOt = np.arange(10,101,10)\n",
    "rfparameters = {'Split criterion':(),'Maximum tree depth':(),'Number of trees':numOt}\n",
    "Rclf = RandomizedSearchCV(rf, rfparameters, random_state=23721266,refit=\"auc\",scoring=p1_metrics_scorer,cv=skf,n_jobs=-1,return_train_score=False)\n",
    "time_start = time.time()\n",
    "Rclf.fit(XmergeDataSet,YmergeDataSet) \n",
    "time_end = time.time()\n",
    "time_c = time_end-time_start\n"
   ]
  },
  {
   "cell_type": "code",
   "execution_count": null,
   "id": "28c14f2e",
   "metadata": {},
   "outputs": [],
   "source": []
  }
 ],
 "metadata": {
  "kernelspec": {
   "display_name": "Python 3 (ipykernel)",
   "language": "python",
   "name": "python3"
  },
  "language_info": {
   "codemirror_mode": {
    "name": "ipython",
    "version": 3
   },
   "file_extension": ".py",
   "mimetype": "text/x-python",
   "name": "python",
   "nbconvert_exporter": "python",
   "pygments_lexer": "ipython3",
   "version": "3.9.6"
  }
 },
 "nbformat": 4,
 "nbformat_minor": 5
}
